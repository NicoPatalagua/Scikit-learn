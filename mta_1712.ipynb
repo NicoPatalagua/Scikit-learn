{
  "nbformat": 4,
  "nbformat_minor": 0,
  "metadata": {
    "colab": {
      "name": "mta_1712.ipynb",
      "provenance": [],
      "machine_shape": "hm",
      "include_colab_link": true
    },
    "kernelspec": {
      "display_name": "Python 3",
      "language": "python",
      "name": "python3"
    },
    "language_info": {
      "codemirror_mode": {
        "name": "ipython",
        "version": 3
      },
      "file_extension": ".py",
      "mimetype": "text/x-python",
      "name": "python",
      "nbconvert_exporter": "python",
      "pygments_lexer": "ipython3",
      "version": "3.8.2"
    }
  },
  "cells": [
    {
      "cell_type": "markdown",
      "metadata": {
        "id": "view-in-github",
        "colab_type": "text"
      },
      "source": [
        "<a href=\"https://colab.research.google.com/github/NicoPatalagua/Scikit-learn/blob/master/mta_1712.ipynb\" target=\"_parent\"><img src=\"https://colab.research.google.com/assets/colab-badge.svg\" alt=\"Open In Colab\"/></a>"
      ]
    },
    {
      "cell_type": "code",
      "metadata": {
        "id": "1KF9r1tXzEpH",
        "colab_type": "code",
        "colab": {}
      },
      "source": [
        "#https://www.kaggle.com/stoney71/new-york-city-transport-statistics#mta_1706.csv\n",
        "import pandas as pd\n",
        "import numpy as np\n",
        "from sklearn import preprocessing\n",
        "from sklearn.model_selection import train_test_split"
      ],
      "execution_count": 0,
      "outputs": []
    },
    {
      "cell_type": "code",
      "metadata": {
        "id": "Gl04YYTNzEpf",
        "colab_type": "code",
        "outputId": "b0516704-2db0-45d1-acea-4a1ab3ae33c3",
        "colab": {
          "base_uri": "https://localhost:8080/",
          "height": 313
        }
      },
      "source": [
        "ObjData = pd.read_csv(\"mta_1712.csv\")\n",
        "ObjData.head(4)"
      ],
      "execution_count": 0,
      "outputs": [
        {
          "output_type": "execute_result",
          "data": {
            "text/html": [
              "<div>\n",
              "<style scoped>\n",
              "    .dataframe tbody tr th:only-of-type {\n",
              "        vertical-align: middle;\n",
              "    }\n",
              "\n",
              "    .dataframe tbody tr th {\n",
              "        vertical-align: top;\n",
              "    }\n",
              "\n",
              "    .dataframe thead th {\n",
              "        text-align: right;\n",
              "    }\n",
              "</style>\n",
              "<table border=\"1\" class=\"dataframe\">\n",
              "  <thead>\n",
              "    <tr style=\"text-align: right;\">\n",
              "      <th></th>\n",
              "      <th>RecordedAtTime</th>\n",
              "      <th>DirectionRef</th>\n",
              "      <th>PublishedLineName</th>\n",
              "      <th>OriginName</th>\n",
              "      <th>OriginLat</th>\n",
              "      <th>OriginLong</th>\n",
              "      <th>DestinationName</th>\n",
              "      <th>DestinationLat</th>\n",
              "      <th>DestinationLong</th>\n",
              "      <th>VehicleRef</th>\n",
              "      <th>VehicleLocation.Latitude</th>\n",
              "      <th>VehicleLocation.Longitude</th>\n",
              "      <th>NextStopPointName</th>\n",
              "      <th>ArrivalProximityText</th>\n",
              "      <th>DistanceFromStop</th>\n",
              "      <th>ExpectedArrivalTime</th>\n",
              "      <th>ScheduledArrivalTime</th>\n",
              "    </tr>\n",
              "  </thead>\n",
              "  <tbody>\n",
              "    <tr>\n",
              "      <th>0</th>\n",
              "      <td>2017-12-01 00:05:49</td>\n",
              "      <td>0</td>\n",
              "      <td>B67</td>\n",
              "      <td>MC DONALD AV/CORTELYOU RD</td>\n",
              "      <td>40.638160</td>\n",
              "      <td>-73.978939</td>\n",
              "      <td>DNTWN BKLYN SANDS ST via FLATBUSH AV</td>\n",
              "      <td>40.700253</td>\n",
              "      <td>-73.987030</td>\n",
              "      <td>NYCT_406</td>\n",
              "      <td>40.671578</td>\n",
              "      <td>-73.977672</td>\n",
              "      <td>7 AV/GARFIELD PL</td>\n",
              "      <td>approaching</td>\n",
              "      <td>130.0</td>\n",
              "      <td>2017-12-01 00:06:21</td>\n",
              "      <td>24:01:30</td>\n",
              "    </tr>\n",
              "    <tr>\n",
              "      <th>1</th>\n",
              "      <td>2017-12-01 00:06:19</td>\n",
              "      <td>1</td>\n",
              "      <td>Bx7</td>\n",
              "      <td>RIVERDALE AV/W 263 ST</td>\n",
              "      <td>40.912363</td>\n",
              "      <td>-73.902699</td>\n",
              "      <td>WASHINGTON HEIGHTS 166 ST via BROADWAY</td>\n",
              "      <td>40.839813</td>\n",
              "      <td>-73.939745</td>\n",
              "      <td>NYCT_4223</td>\n",
              "      <td>40.866243</td>\n",
              "      <td>-73.925258</td>\n",
              "      <td>BROADWAY/ACADEMY ST</td>\n",
              "      <td>at stop</td>\n",
              "      <td>14.0</td>\n",
              "      <td>2017-12-01 00:06:21</td>\n",
              "      <td>23:34:35</td>\n",
              "    </tr>\n",
              "    <tr>\n",
              "      <th>2</th>\n",
              "      <td>2017-12-01 00:05:25</td>\n",
              "      <td>0</td>\n",
              "      <td>S51</td>\n",
              "      <td>LINCOLN AV/RICHMOND RD</td>\n",
              "      <td>40.581245</td>\n",
              "      <td>-74.111990</td>\n",
              "      <td>ST GEORGE FERRY via BAY ST</td>\n",
              "      <td>40.643585</td>\n",
              "      <td>-74.072610</td>\n",
              "      <td>NYCT_7080</td>\n",
              "      <td>40.581364</td>\n",
              "      <td>-74.112033</td>\n",
              "      <td>MIDLAND AV/RICHMOND RD</td>\n",
              "      <td>&lt; 1 stop away</td>\n",
              "      <td>209.0</td>\n",
              "      <td>2017-12-01 00:06:22</td>\n",
              "      <td>24:15:35</td>\n",
              "    </tr>\n",
              "    <tr>\n",
              "      <th>3</th>\n",
              "      <td>2017-12-01 00:05:56</td>\n",
              "      <td>0</td>\n",
              "      <td>M8</td>\n",
              "      <td>WEST ST/CHRISTOPHER ST</td>\n",
              "      <td>40.732847</td>\n",
              "      <td>-74.010081</td>\n",
              "      <td>AVENUE \"D\" CROSSTOWN</td>\n",
              "      <td>40.724689</td>\n",
              "      <td>-73.974548</td>\n",
              "      <td>NYCT_3809</td>\n",
              "      <td>40.734194</td>\n",
              "      <td>-73.999677</td>\n",
              "      <td>GREENWICH AV/CHRISTOPHER ST</td>\n",
              "      <td>at stop</td>\n",
              "      <td>5.0</td>\n",
              "      <td>2017-12-01 00:06:22</td>\n",
              "      <td>24:05:24</td>\n",
              "    </tr>\n",
              "  </tbody>\n",
              "</table>\n",
              "</div>"
            ],
            "text/plain": [
              "        RecordedAtTime  DirectionRef  ...  ExpectedArrivalTime ScheduledArrivalTime\n",
              "0  2017-12-01 00:05:49             0  ...  2017-12-01 00:06:21             24:01:30\n",
              "1  2017-12-01 00:06:19             1  ...  2017-12-01 00:06:21             23:34:35\n",
              "2  2017-12-01 00:05:25             0  ...  2017-12-01 00:06:22             24:15:35\n",
              "3  2017-12-01 00:05:56             0  ...  2017-12-01 00:06:22             24:05:24\n",
              "\n",
              "[4 rows x 17 columns]"
            ]
          },
          "metadata": {
            "tags": []
          },
          "execution_count": 3
        }
      ]
    },
    {
      "cell_type": "code",
      "metadata": {
        "id": "tGYiR5WDzEpx",
        "colab_type": "code",
        "outputId": "b5860604-3bb4-4822-d86d-3eda1442bfc5",
        "colab": {
          "base_uri": "https://localhost:8080/",
          "height": 313
        }
      },
      "source": [
        "ObjData=ObjData.drop(['OriginLong','OriginLat',\n",
        "                      'DestinationLat','DestinationLong',\n",
        "                     'VehicleLocation.Latitude',\n",
        "                      'VehicleLocation.Longitude',\n",
        "                     'ScheduledArrivalTime'],axis=1)\n",
        "ObjData.head(4)"
      ],
      "execution_count": 0,
      "outputs": [
        {
          "output_type": "execute_result",
          "data": {
            "text/html": [
              "<div>\n",
              "<style scoped>\n",
              "    .dataframe tbody tr th:only-of-type {\n",
              "        vertical-align: middle;\n",
              "    }\n",
              "\n",
              "    .dataframe tbody tr th {\n",
              "        vertical-align: top;\n",
              "    }\n",
              "\n",
              "    .dataframe thead th {\n",
              "        text-align: right;\n",
              "    }\n",
              "</style>\n",
              "<table border=\"1\" class=\"dataframe\">\n",
              "  <thead>\n",
              "    <tr style=\"text-align: right;\">\n",
              "      <th></th>\n",
              "      <th>RecordedAtTime</th>\n",
              "      <th>DirectionRef</th>\n",
              "      <th>PublishedLineName</th>\n",
              "      <th>OriginName</th>\n",
              "      <th>DestinationName</th>\n",
              "      <th>VehicleRef</th>\n",
              "      <th>NextStopPointName</th>\n",
              "      <th>ArrivalProximityText</th>\n",
              "      <th>DistanceFromStop</th>\n",
              "      <th>ExpectedArrivalTime</th>\n",
              "    </tr>\n",
              "  </thead>\n",
              "  <tbody>\n",
              "    <tr>\n",
              "      <th>0</th>\n",
              "      <td>2017-12-01 00:05:49</td>\n",
              "      <td>0</td>\n",
              "      <td>B67</td>\n",
              "      <td>MC DONALD AV/CORTELYOU RD</td>\n",
              "      <td>DNTWN BKLYN SANDS ST via FLATBUSH AV</td>\n",
              "      <td>NYCT_406</td>\n",
              "      <td>7 AV/GARFIELD PL</td>\n",
              "      <td>approaching</td>\n",
              "      <td>130.0</td>\n",
              "      <td>2017-12-01 00:06:21</td>\n",
              "    </tr>\n",
              "    <tr>\n",
              "      <th>1</th>\n",
              "      <td>2017-12-01 00:06:19</td>\n",
              "      <td>1</td>\n",
              "      <td>Bx7</td>\n",
              "      <td>RIVERDALE AV/W 263 ST</td>\n",
              "      <td>WASHINGTON HEIGHTS 166 ST via BROADWAY</td>\n",
              "      <td>NYCT_4223</td>\n",
              "      <td>BROADWAY/ACADEMY ST</td>\n",
              "      <td>at stop</td>\n",
              "      <td>14.0</td>\n",
              "      <td>2017-12-01 00:06:21</td>\n",
              "    </tr>\n",
              "    <tr>\n",
              "      <th>2</th>\n",
              "      <td>2017-12-01 00:05:25</td>\n",
              "      <td>0</td>\n",
              "      <td>S51</td>\n",
              "      <td>LINCOLN AV/RICHMOND RD</td>\n",
              "      <td>ST GEORGE FERRY via BAY ST</td>\n",
              "      <td>NYCT_7080</td>\n",
              "      <td>MIDLAND AV/RICHMOND RD</td>\n",
              "      <td>&lt; 1 stop away</td>\n",
              "      <td>209.0</td>\n",
              "      <td>2017-12-01 00:06:22</td>\n",
              "    </tr>\n",
              "    <tr>\n",
              "      <th>3</th>\n",
              "      <td>2017-12-01 00:05:56</td>\n",
              "      <td>0</td>\n",
              "      <td>M8</td>\n",
              "      <td>WEST ST/CHRISTOPHER ST</td>\n",
              "      <td>AVENUE \"D\" CROSSTOWN</td>\n",
              "      <td>NYCT_3809</td>\n",
              "      <td>GREENWICH AV/CHRISTOPHER ST</td>\n",
              "      <td>at stop</td>\n",
              "      <td>5.0</td>\n",
              "      <td>2017-12-01 00:06:22</td>\n",
              "    </tr>\n",
              "  </tbody>\n",
              "</table>\n",
              "</div>"
            ],
            "text/plain": [
              "        RecordedAtTime  DirectionRef  ... DistanceFromStop  ExpectedArrivalTime\n",
              "0  2017-12-01 00:05:49             0  ...            130.0  2017-12-01 00:06:21\n",
              "1  2017-12-01 00:06:19             1  ...             14.0  2017-12-01 00:06:21\n",
              "2  2017-12-01 00:05:25             0  ...            209.0  2017-12-01 00:06:22\n",
              "3  2017-12-01 00:05:56             0  ...              5.0  2017-12-01 00:06:22\n",
              "\n",
              "[4 rows x 10 columns]"
            ]
          },
          "metadata": {
            "tags": []
          },
          "execution_count": 4
        }
      ]
    },
    {
      "cell_type": "code",
      "metadata": {
        "id": "lBd6kgeNzEp5",
        "colab_type": "code",
        "outputId": "dcec6dd9-8296-4783-bf01-666d48b3c956",
        "colab": {
          "base_uri": "https://localhost:8080/",
          "height": 202
        }
      },
      "source": [
        "for column in ObjData.columns:\n",
        "    if ObjData[column].dtype == type(object):\n",
        "        ObjRd = preprocessing.LabelEncoder()\n",
        "        ObjData[column] = ObjRd.fit_transform(ObjData[column].astype(str))\n",
        "ObjData.shape\n",
        "ObjData = ObjData.fillna(0)\n",
        "\n",
        "ObjData.columns = [str(i) for i in range(0,10)]\n",
        "attributes = ObjData.drop('0', axis=1)\n",
        "labels = ObjData['0']    \n",
        "att_train,att_test,lab_train,lab_test=train_test_split(attributes,labels,test_size =0.3)\n",
        "ObjData.head()"
      ],
      "execution_count": 0,
      "outputs": [
        {
          "output_type": "execute_result",
          "data": {
            "text/html": [
              "<div>\n",
              "<style scoped>\n",
              "    .dataframe tbody tr th:only-of-type {\n",
              "        vertical-align: middle;\n",
              "    }\n",
              "\n",
              "    .dataframe tbody tr th {\n",
              "        vertical-align: top;\n",
              "    }\n",
              "\n",
              "    .dataframe thead th {\n",
              "        text-align: right;\n",
              "    }\n",
              "</style>\n",
              "<table border=\"1\" class=\"dataframe\">\n",
              "  <thead>\n",
              "    <tr style=\"text-align: right;\">\n",
              "      <th></th>\n",
              "      <th>0</th>\n",
              "      <th>1</th>\n",
              "      <th>2</th>\n",
              "      <th>3</th>\n",
              "      <th>4</th>\n",
              "      <th>5</th>\n",
              "      <th>6</th>\n",
              "      <th>7</th>\n",
              "      <th>8</th>\n",
              "      <th>9</th>\n",
              "    </tr>\n",
              "  </thead>\n",
              "  <tbody>\n",
              "    <tr>\n",
              "      <th>0</th>\n",
              "      <td>21</td>\n",
              "      <td>0</td>\n",
              "      <td>43</td>\n",
              "      <td>202</td>\n",
              "      <td>112</td>\n",
              "      <td>480</td>\n",
              "      <td>602</td>\n",
              "      <td>74</td>\n",
              "      <td>130.0</td>\n",
              "      <td>0</td>\n",
              "    </tr>\n",
              "    <tr>\n",
              "      <th>1</th>\n",
              "      <td>51</td>\n",
              "      <td>1</td>\n",
              "      <td>97</td>\n",
              "      <td>247</td>\n",
              "      <td>465</td>\n",
              "      <td>535</td>\n",
              "      <td>1320</td>\n",
              "      <td>75</td>\n",
              "      <td>14.0</td>\n",
              "      <td>0</td>\n",
              "    </tr>\n",
              "    <tr>\n",
              "      <th>2</th>\n",
              "      <td>5</td>\n",
              "      <td>0</td>\n",
              "      <td>234</td>\n",
              "      <td>189</td>\n",
              "      <td>427</td>\n",
              "      <td>1407</td>\n",
              "      <td>3766</td>\n",
              "      <td>73</td>\n",
              "      <td>209.0</td>\n",
              "      <td>1</td>\n",
              "    </tr>\n",
              "    <tr>\n",
              "      <th>3</th>\n",
              "      <td>28</td>\n",
              "      <td>0</td>\n",
              "      <td>144</td>\n",
              "      <td>361</td>\n",
              "      <td>30</td>\n",
              "      <td>369</td>\n",
              "      <td>2842</td>\n",
              "      <td>75</td>\n",
              "      <td>5.0</td>\n",
              "      <td>1</td>\n",
              "    </tr>\n",
              "    <tr>\n",
              "      <th>4</th>\n",
              "      <td>34</td>\n",
              "      <td>0</td>\n",
              "      <td>114</td>\n",
              "      <td>54</td>\n",
              "      <td>181</td>\n",
              "      <td>1062</td>\n",
              "      <td>382</td>\n",
              "      <td>74</td>\n",
              "      <td>108.0</td>\n",
              "      <td>3</td>\n",
              "    </tr>\n",
              "  </tbody>\n",
              "</table>\n",
              "</div>"
            ],
            "text/plain": [
              "    0  1    2    3    4     5     6   7      8  9\n",
              "0  21  0   43  202  112   480   602  74  130.0  0\n",
              "1  51  1   97  247  465   535  1320  75   14.0  0\n",
              "2   5  0  234  189  427  1407  3766  73  209.0  1\n",
              "3  28  0  144  361   30   369  2842  75    5.0  1\n",
              "4  34  0  114   54  181  1062   382  74  108.0  3"
            ]
          },
          "metadata": {
            "tags": []
          },
          "execution_count": 5
        }
      ]
    },
    {
      "cell_type": "code",
      "metadata": {
        "id": "brVHcTfPzEp_",
        "colab_type": "code",
        "outputId": "9b9ee006-f53d-476a-a9bc-115e78e71fc9",
        "colab": {
          "base_uri": "https://localhost:8080/",
          "height": 260
        }
      },
      "source": [
        "att_train.head"
      ],
      "execution_count": 0,
      "outputs": [
        {
          "output_type": "execute_result",
          "data": {
            "text/plain": [
              "<bound method NDFrame.head of        1    2    3    4     5     6   7      8     9\n",
              "14682  1  215    5  224   513   145  75   23.0  2528\n",
              "7683   1   88  229  362   772  4592  75   17.0  1501\n",
              "7104   1  114  301  147   912   773  74  110.0  1361\n",
              "3894   0   69  188  481  1596  1278  74   70.0   562\n",
              "291    1  170   52  265  1436  3176  73  406.0    65\n",
              "...   ..  ...  ...  ...   ...   ...  ..    ...   ...\n",
              "4019   0  141   57  200   398  3591  75    4.0   554\n",
              "8788   0  165  205   97  1580  3556  74   54.0  1722\n",
              "6160   1  200  173  484  1528  3708  73  171.0  1074\n",
              "4425   0  201  223  351  1526  3830  74  141.0   640\n",
              "5447   0   24  190  194   508  3310  73  292.0   946\n",
              "\n",
              "[10593 rows x 9 columns]>"
            ]
          },
          "metadata": {
            "tags": []
          },
          "execution_count": 9
        }
      ]
    },
    {
      "cell_type": "code",
      "metadata": {
        "id": "9DLnLJ_AzEqF",
        "colab_type": "code",
        "outputId": "6576a98e-b499-4164-d18e-30cbf14da6af",
        "colab": {
          "base_uri": "https://localhost:8080/",
          "height": 202
        }
      },
      "source": [
        "att_test.head()"
      ],
      "execution_count": 0,
      "outputs": [
        {
          "output_type": "execute_result",
          "data": {
            "text/html": [
              "<div>\n",
              "<style scoped>\n",
              "    .dataframe tbody tr th:only-of-type {\n",
              "        vertical-align: middle;\n",
              "    }\n",
              "\n",
              "    .dataframe tbody tr th {\n",
              "        vertical-align: top;\n",
              "    }\n",
              "\n",
              "    .dataframe thead th {\n",
              "        text-align: right;\n",
              "    }\n",
              "</style>\n",
              "<table border=\"1\" class=\"dataframe\">\n",
              "  <thead>\n",
              "    <tr style=\"text-align: right;\">\n",
              "      <th></th>\n",
              "      <th>1</th>\n",
              "      <th>2</th>\n",
              "      <th>3</th>\n",
              "      <th>4</th>\n",
              "      <th>5</th>\n",
              "      <th>6</th>\n",
              "      <th>7</th>\n",
              "      <th>8</th>\n",
              "      <th>9</th>\n",
              "    </tr>\n",
              "  </thead>\n",
              "  <tbody>\n",
              "    <tr>\n",
              "      <th>2270</th>\n",
              "      <td>0</td>\n",
              "      <td>127</td>\n",
              "      <td>3</td>\n",
              "      <td>393</td>\n",
              "      <td>929</td>\n",
              "      <td>5194</td>\n",
              "      <td>74</td>\n",
              "      <td>80.0</td>\n",
              "      <td>304</td>\n",
              "    </tr>\n",
              "    <tr>\n",
              "      <th>6563</th>\n",
              "      <td>0</td>\n",
              "      <td>139</td>\n",
              "      <td>82</td>\n",
              "      <td>399</td>\n",
              "      <td>1040</td>\n",
              "      <td>3029</td>\n",
              "      <td>64</td>\n",
              "      <td>9692.0</td>\n",
              "      <td>1214</td>\n",
              "    </tr>\n",
              "    <tr>\n",
              "      <th>2108</th>\n",
              "      <td>0</td>\n",
              "      <td>117</td>\n",
              "      <td>338</td>\n",
              "      <td>452</td>\n",
              "      <td>428</td>\n",
              "      <td>1377</td>\n",
              "      <td>74</td>\n",
              "      <td>71.0</td>\n",
              "      <td>304</td>\n",
              "    </tr>\n",
              "    <tr>\n",
              "      <th>5777</th>\n",
              "      <td>1</td>\n",
              "      <td>44</td>\n",
              "      <td>233</td>\n",
              "      <td>100</td>\n",
              "      <td>733</td>\n",
              "      <td>1713</td>\n",
              "      <td>74</td>\n",
              "      <td>101.0</td>\n",
              "      <td>975</td>\n",
              "    </tr>\n",
              "    <tr>\n",
              "      <th>12392</th>\n",
              "      <td>1</td>\n",
              "      <td>253</td>\n",
              "      <td>96</td>\n",
              "      <td>153</td>\n",
              "      <td>285</td>\n",
              "      <td>3112</td>\n",
              "      <td>73</td>\n",
              "      <td>232.0</td>\n",
              "      <td>2278</td>\n",
              "    </tr>\n",
              "  </tbody>\n",
              "</table>\n",
              "</div>"
            ],
            "text/plain": [
              "       1    2    3    4     5     6   7       8     9\n",
              "2270   0  127    3  393   929  5194  74    80.0   304\n",
              "6563   0  139   82  399  1040  3029  64  9692.0  1214\n",
              "2108   0  117  338  452   428  1377  74    71.0   304\n",
              "5777   1   44  233  100   733  1713  74   101.0   975\n",
              "12392  1  253   96  153   285  3112  73   232.0  2278"
            ]
          },
          "metadata": {
            "tags": []
          },
          "execution_count": 8
        }
      ]
    },
    {
      "cell_type": "code",
      "metadata": {
        "id": "xnqO4jfDzEqK",
        "colab_type": "code",
        "colab": {}
      },
      "source": [
        "from sklearn.metrics import accuracy_score,precision_score,recall_score,f1_score"
      ],
      "execution_count": 0,
      "outputs": []
    },
    {
      "cell_type": "code",
      "metadata": {
        "id": "WfWWFZKczEqQ",
        "colab_type": "code",
        "outputId": "473e44a2-6b01-45bb-954b-b8d613c4e23c",
        "colab": {
          "base_uri": "https://localhost:8080/",
          "height": 277
        }
      },
      "source": [
        "from sklearn import tree\n",
        "clf = tree.DecisionTreeClassifier()\n",
        "clf.fit(att_train, lab_train)\n",
        "lab_pred= clf.predict(att_test)\n",
        "print(\"Decision Tree Classifier\")\n",
        "print(\"\\nAccuracy Score: \"+ str(accuracy_score(lab_test,lab_pred)))\n",
        "print(\"\\nPrecision Score Macro: \"+str(precision_score(lab_test,lab_pred,average='macro',zero_division=1)))\n",
        "print(\"\\nPrecision Score Micro: \"+str(precision_score(lab_test,lab_pred,average='micro',zero_division=1)))\n",
        "print(\"\\nRecall Macro: \"+str(recall_score(lab_test,lab_pred, average='macro',zero_division=1)))\n",
        "print(\"\\nRecall Micro: \"+str(recall_score(lab_test,lab_pred, average='micro',zero_division=1)))\n",
        "print(\"\\nF1 Score Macro: \"+str(f1_score(lab_test,lab_pred, average='macro')))\n",
        "print(\"\\nF1 Score Micro: \"+str(f1_score(lab_test,lab_pred, average='micro')))"
      ],
      "execution_count": 0,
      "outputs": [
        {
          "output_type": "stream",
          "text": [
            "Decision Tree Classifier\n",
            "\n",
            "Accuracy Score: 0.028187623871393966\n",
            "\n",
            "Precision Score Macro: 0.22688773813239627\n",
            "\n",
            "Precision Score Micro: 0.028187623871393966\n",
            "\n",
            "Recall Macro: 0.1409967814850922\n",
            "\n",
            "Recall Micro: 0.028187623871393966\n",
            "\n",
            "F1 Score Macro: 0.0188270522390257\n",
            "\n",
            "F1 Score Micro: 0.02818762387139397\n"
          ],
          "name": "stdout"
        }
      ]
    },
    {
      "cell_type": "code",
      "metadata": {
        "id": "bMPLAz0izEqT",
        "colab_type": "code",
        "outputId": "efb62589-eb54-4f7b-cf9f-5bfed221d8f2",
        "colab": {
          "base_uri": "https://localhost:8080/",
          "height": 277
        }
      },
      "source": [
        "from sklearn.ensemble import RandomForestClassifier\n",
        "clf = RandomForestClassifier(n_estimators=50)\n",
        "clf.fit(att_train, lab_train)\n",
        "lab_pred = clf.predict(att_test)\n",
        "print(\"Random Forest Classifier\")\n",
        "print(\"\\nAccuracy Score: \"+ str(accuracy_score(lab_test,lab_pred)))\n",
        "print(\"\\nPrecision Score Macro: \"+str(precision_score(lab_test,lab_pred,average='macro',zero_division=1)))\n",
        "print(\"\\nPrecision Score Micro: \"+str(precision_score(lab_test,lab_pred,average='micro',zero_division=1)))\n",
        "print(\"\\nRecall Macro: \"+str(recall_score(lab_test,lab_pred, average='macro',zero_division=1)))\n",
        "print(\"\\nRecall Micro: \"+str(recall_score(lab_test,lab_pred, average='micro',zero_division=1)))\n",
        "print(\"\\nF1 Score Macro: \"+str(f1_score(lab_test,lab_pred, average='macro')))\n",
        "print(\"\\nF1 Score Micro: \"+str(f1_score(lab_test,lab_pred, average='micro')))"
      ],
      "execution_count": 0,
      "outputs": [
        {
          "output_type": "stream",
          "text": [
            "Random Forest Classifier\n",
            "\n",
            "Accuracy Score: 0.025324818321955517\n",
            "\n",
            "Precision Score Macro: 0.21259459054724386\n",
            "\n",
            "Precision Score Micro: 0.025324818321955517\n",
            "\n",
            "Recall Macro: 0.11980186917507835\n",
            "\n",
            "Recall Micro: 0.025324818321955517\n",
            "\n",
            "F1 Score Macro: 0.01312390874992862\n",
            "\n",
            "F1 Score Micro: 0.025324818321955517\n"
          ],
          "name": "stdout"
        }
      ]
    },
    {
      "cell_type": "code",
      "metadata": {
        "id": "GK7nOjZqzEqX",
        "colab_type": "code",
        "outputId": "89160693-b548-4b9a-d0dd-e78a8e367de5",
        "colab": {
          "base_uri": "https://localhost:8080/",
          "height": 277
        }
      },
      "source": [
        "from sklearn.ensemble import RandomForestClassifier\n",
        "clf = RandomForestClassifier(n_estimators=100, criterion='gini', \n",
        "                             max_depth=None, min_samples_split=2, \n",
        "                             min_samples_leaf=1, min_weight_fraction_leaf=0.0, \n",
        "                             max_features='auto', max_leaf_nodes=None, \n",
        "                             min_impurity_decrease=0.0, min_impurity_split=None,\n",
        "                             bootstrap=True, oob_score=False, n_jobs=None, \n",
        "                             random_state=None, verbose=0, warm_start=False, \n",
        "                             class_weight=None, ccp_alpha=0.0, max_samples=None)\n",
        "clf.fit(att_train, lab_train)\n",
        "lab_pred = clf.predict(att_test)\n",
        "print(\"New Random Forest Classifier\")\n",
        "print(\"\\nAccuracy Score: \"+ str(accuracy_score(lab_test,lab_pred)))\n",
        "print(\"\\nPrecision Score Macro: \"+str(precision_score(lab_test,lab_pred,average='macro',zero_division=1)))\n",
        "print(\"\\nPrecision Score Micro: \"+str(precision_score(lab_test,lab_pred,average='micro',zero_division=1)))\n",
        "print(\"\\nRecall Macro: \"+str(recall_score(lab_test,lab_pred, average='macro',zero_division=1)))\n",
        "print(\"\\nRecall Micro: \"+str(recall_score(lab_test,lab_pred, average='micro',zero_division=1)))\n",
        "print(\"\\nF1 Score Macro: \"+str(f1_score(lab_test,lab_pred, average='macro')))\n",
        "print(\"\\nF1 Score Micro: \"+str(f1_score(lab_test,lab_pred, average='micro')))"
      ],
      "execution_count": 0,
      "outputs": [
        {
          "output_type": "stream",
          "text": [
            "New Random Forest Classifier\n",
            "\n",
            "Accuracy Score: 0.02708654481391764\n",
            "\n",
            "Precision Score Macro: 0.22030018604675866\n",
            "\n",
            "Precision Score Micro: 0.02708654481391764\n",
            "\n",
            "Recall Macro: 0.1175211262499667\n",
            "\n",
            "Recall Micro: 0.02708654481391764\n",
            "\n",
            "F1 Score Macro: 0.014546428256715139\n",
            "\n",
            "F1 Score Micro: 0.02708654481391764\n"
          ],
          "name": "stdout"
        }
      ]
    },
    {
      "cell_type": "code",
      "metadata": {
        "id": "5QmO5LjVzEqa",
        "colab_type": "code",
        "outputId": "2c28f277-389a-4921-b70f-39ad3421f03d",
        "colab": {
          "base_uri": "https://localhost:8080/",
          "height": 277
        }
      },
      "source": [
        "from sklearn.naive_bayes import GaussianNB\n",
        "clf = GaussianNB()\n",
        "clf.fit(att_train, lab_train)\n",
        "lab_pred = clf.predict(att_test)\n",
        "print(\"GaussianNB Classifier\")\n",
        "print(\"\\nAccuracy Score: \"+ str(accuracy_score(lab_test,lab_pred)))\n",
        "print(\"\\nPrecision Score Macro: \"+str(precision_score(lab_test,lab_pred,average='macro',zero_division=1)))\n",
        "print(\"\\nPrecision Score Micro: \"+str(precision_score(lab_test,lab_pred,average='micro',zero_division=1)))\n",
        "print(\"\\nRecall Macro: \"+str(recall_score(lab_test,lab_pred, average='macro',zero_division=1)))\n",
        "print(\"\\nRecall Micro: \"+str(recall_score(lab_test,lab_pred, average='micro',zero_division=1)))\n",
        "print(\"\\nF1 Score Macro: \"+str(f1_score(lab_test,lab_pred, average='macro')))\n",
        "print(\"\\nF1 Score Micro: \"+str(f1_score(lab_test,lab_pred, average='micro')))"
      ],
      "execution_count": 0,
      "outputs": [
        {
          "output_type": "stream",
          "text": [
            "GaussianNB Classifier\n",
            "\n",
            "Accuracy Score: 0.021581149526536007\n",
            "\n",
            "Precision Score Macro: 0.5853922222833294\n",
            "\n",
            "Precision Score Micro: 0.021581149526536007\n",
            "\n",
            "Recall Macro: 0.0733595781323054\n",
            "\n",
            "Recall Micro: 0.021581149526536007\n",
            "\n",
            "F1 Score Macro: 0.010362855065341165\n",
            "\n",
            "F1 Score Micro: 0.021581149526536007\n"
          ],
          "name": "stdout"
        }
      ]
    },
    {
      "cell_type": "code",
      "metadata": {
        "id": "oq8k-MfWzEqf",
        "colab_type": "code",
        "outputId": "035b1b4a-454f-4606-ea43-395c9dd09b4c",
        "colab": {
          "base_uri": "https://localhost:8080/",
          "height": 277
        }
      },
      "source": [
        "from sklearn.ensemble import BaggingClassifier\n",
        "clf = BaggingClassifier(tree.DecisionTreeClassifier(), n_estimators=100)\n",
        "clf.fit(att_train, lab_train)\n",
        "lab_pred = clf.predict(att_test)\n",
        "print(\"Bagging Classifier\")\n",
        "print(\"\\nAccuracy Score: \"+ str(accuracy_score(lab_test,lab_pred)))\n",
        "print(\"\\nPrecision Score Macro: \"+str(precision_score(lab_test,lab_pred,average='macro',zero_division=1)))\n",
        "print(\"\\nPrecision Score Micro: \"+str(precision_score(lab_test,lab_pred,average='micro',zero_division=1)))\n",
        "print(\"\\nRecall Macro: \"+str(recall_score(lab_test,lab_pred, average='macro',zero_division=1)))\n",
        "print(\"\\nRecall Micro: \"+str(recall_score(lab_test,lab_pred, average='micro',zero_division=1)))\n",
        "print(\"\\nF1 Score Macro: \"+str(f1_score(lab_test,lab_pred, average='macro')))\n",
        "print(\"\\nF1 Score Micro: \"+str(f1_score(lab_test,lab_pred, average='micro')))"
      ],
      "execution_count": 0,
      "outputs": [
        {
          "output_type": "stream",
          "text": [
            "Bagging Classifier\n",
            "\n",
            "Accuracy Score: 0.03523452983924246\n",
            "\n",
            "Precision Score Macro: 0.26680304618569\n",
            "\n",
            "Precision Score Micro: 0.03523452983924246\n",
            "\n",
            "Recall Macro: 0.1281989212033044\n",
            "\n",
            "Recall Micro: 0.03523452983924246\n",
            "\n",
            "F1 Score Macro: 0.0224814028933004\n",
            "\n",
            "F1 Score Micro: 0.03523452983924246\n"
          ],
          "name": "stdout"
        }
      ]
    },
    {
      "cell_type": "code",
      "metadata": {
        "id": "LaVXq6q4zEqk",
        "colab_type": "code",
        "outputId": "5db1c278-a2a5-41e5-fbc8-fdc330165041",
        "colab": {
          "base_uri": "https://localhost:8080/",
          "height": 277
        }
      },
      "source": [
        "from sklearn.ensemble import BaggingClassifier\n",
        "clf = BaggingClassifier(tree.DecisionTreeClassifier(),\n",
        "                        n_estimators=10, max_samples=1.0, max_features=1.0,\n",
        "                        bootstrap=True, bootstrap_features=False, oob_score=False,\n",
        "                        warm_start=False, n_jobs=None, random_state=None, verbose=0)\n",
        "clf.fit(att_train, lab_train)\n",
        "lab_pred = clf.predict(att_test)\n",
        "print(\"New Bagging Classifier\")\n",
        "print(\"\\nAccuracy Score: \"+ str(accuracy_score(lab_test,lab_pred)))\n",
        "print(\"\\nPrecision Score Macro: \"+str(precision_score(lab_test,lab_pred,average='macro',zero_division=1)))\n",
        "print(\"\\nPrecision Score Micro: \"+str(precision_score(lab_test,lab_pred,average='micro',zero_division=1)))\n",
        "print(\"\\nRecall Macro: \"+str(recall_score(lab_test,lab_pred, average='macro',zero_division=1)))\n",
        "print(\"\\nRecall Micro: \"+str(recall_score(lab_test,lab_pred, average='micro',zero_division=1)))\n",
        "print(\"\\nF1 Score Macro: \"+str(f1_score(lab_test,lab_pred, average='macro')))\n",
        "print(\"\\nF1 Score Micro: \"+str(f1_score(lab_test,lab_pred, average='micro')))"
      ],
      "execution_count": 0,
      "outputs": [
        {
          "output_type": "stream",
          "text": [
            "New Bagging Classifier\n",
            "\n",
            "Accuracy Score: 0.029068487117375027\n",
            "\n",
            "Precision Score Macro: 0.22370602691938665\n",
            "\n",
            "Precision Score Micro: 0.029068487117375027\n",
            "\n",
            "Recall Macro: 0.15440557283313466\n",
            "\n",
            "Recall Micro: 0.029068487117375027\n",
            "\n",
            "F1 Score Macro: 0.019624917013609418\n",
            "\n",
            "F1 Score Micro: 0.029068487117375027\n"
          ],
          "name": "stdout"
        }
      ]
    },
    {
      "cell_type": "code",
      "metadata": {
        "id": "gaB6kBx4zEqn",
        "colab_type": "code",
        "outputId": "98be48be-6d8e-4957-bbc0-e4431c0ae6af",
        "colab": {
          "base_uri": "https://localhost:8080/",
          "height": 277
        }
      },
      "source": [
        "\n",
        "from sklearn.ensemble import AdaBoostClassifier\n",
        "clf = AdaBoostClassifier(tree.DecisionTreeClassifier(), n_estimators=50)\n",
        "clf.fit(att_train, lab_train)\n",
        "lab_pred = clf.predict(att_test)\n",
        "print(\"AdaBoost Classifier with Decision Tree Clssifier\")\n",
        "print(\"\\nAccuracy Score: \"+ str(accuracy_score(lab_test,lab_pred)))\n",
        "print(\"\\nPrecision Score Macro: \"+str(precision_score(lab_test,lab_pred,average='macro',zero_division=1)))\n",
        "print(\"\\nPrecision Score Micro: \"+str(precision_score(lab_test,lab_pred,average='micro',zero_division=1)))\n",
        "print(\"\\nRecall Macro: \"+str(recall_score(lab_test,lab_pred, average='macro',zero_division=1)))\n",
        "print(\"\\nRecall Micro: \"+str(recall_score(lab_test,lab_pred, average='micro',zero_division=1)))\n",
        "print(\"\\nF1 Score Macro: \"+str(f1_score(lab_test,lab_pred, average='macro')))\n",
        "print(\"\\nF1 Score Micro: \"+str(f1_score(lab_test,lab_pred, average='micro')))"
      ],
      "execution_count": 0,
      "outputs": [
        {
          "output_type": "stream",
          "text": [
            "AdaBoost Classifier with Decision Tree Clssifier\n",
            "\n",
            "Accuracy Score: 0.02048007046905968\n",
            "\n",
            "Precision Score Macro: 0.2143654675916575\n",
            "\n",
            "Precision Score Micro: 0.02048007046905968\n",
            "\n",
            "Recall Macro: 0.12565867585651758\n",
            "\n",
            "Recall Micro: 0.02048007046905968\n",
            "\n",
            "F1 Score Macro: 0.012048543801364994\n",
            "\n",
            "F1 Score Micro: 0.02048007046905968\n"
          ],
          "name": "stdout"
        }
      ]
    },
    {
      "cell_type": "code",
      "metadata": {
        "colab_type": "code",
        "id": "VwhjuWnN3Eti",
        "outputId": "f32d264d-650d-427c-9758-1f6b4c7a8858",
        "colab": {
          "base_uri": "https://localhost:8080/",
          "height": 277
        }
      },
      "source": [
        "from sklearn import tree\n",
        "from sklearn.ensemble import AdaBoostClassifier\n",
        "clf = AdaBoostClassifier(tree.DecisionTreeClassifier(), n_estimators=50, \n",
        "                         learning_rate=1.0, algorithm='SAMME.R', random_state=None)\n",
        "clf.fit(att_train, lab_train)\n",
        "lab_pred = clf.predict(att_test)\n",
        "print(\"New AdaBoost Classifier with Decision Tree Clssifier\")\n",
        "print(\"\\nAccuracy Score: \"+ str(accuracy_score(lab_test,lab_pred)))\n",
        "print(\"\\nPrecision Score Macro: \"+str(precision_score(lab_test,lab_pred,average='macro',zero_division=1)))\n",
        "print(\"\\nPrecision Score Micro: \"+str(precision_score(lab_test,lab_pred,average='micro',zero_division=1)))\n",
        "print(\"\\nRecall Macro: \"+str(recall_score(lab_test,lab_pred, average='macro',zero_division=1)))\n",
        "print(\"\\nRecall Micro: \"+str(recall_score(lab_test,lab_pred, average='micro',zero_division=1)))\n",
        "print(\"\\nF1 Score Macro: \"+str(f1_score(lab_test,lab_pred, average='macro')))\n",
        "print(\"\\nF1 Score Micro: \"+str(f1_score(lab_test,lab_pred, average='micro')))"
      ],
      "execution_count": 0,
      "outputs": [
        {
          "output_type": "stream",
          "text": [
            "New AdaBoost Classifier with Decision Tree Clssifier\n",
            "\n",
            "Accuracy Score: 0.02180136533803127\n",
            "\n",
            "Precision Score Macro: 0.22475091251250914\n",
            "\n",
            "Precision Score Micro: 0.02180136533803127\n",
            "\n",
            "Recall Macro: 0.12117253673047663\n",
            "\n",
            "Recall Micro: 0.02180136533803127\n",
            "\n",
            "F1 Score Macro: 0.014140677616719673\n",
            "\n",
            "F1 Score Micro: 0.02180136533803127\n"
          ],
          "name": "stdout"
        }
      ]
    },
    {
      "cell_type": "code",
      "metadata": {
        "colab_type": "code",
        "id": "bYSa0wsB_wIn",
        "outputId": "ce6203dc-7c47-424f-d5e9-477120600a14",
        "colab": {
          "base_uri": "https://localhost:8080/",
          "height": 277
        }
      },
      "source": [
        "from sklearn.linear_model import Perceptron\n",
        "clf = Perceptron(tol=1e-3, random_state=0)\n",
        "clf.fit(att_train, lab_train)\n",
        "lab_pred = clf.predict(att_test)\n",
        "print(\"Percptron Classifier\")\n",
        "print(\"\\nAccuracy Score: \"+ str(accuracy_score(lab_test,lab_pred)))\n",
        "print(\"\\nPrecision Score Macro: \"+str(precision_score(lab_test,lab_pred,average='macro',zero_division=1)))\n",
        "print(\"\\nPrecision Score Micro: \"+str(precision_score(lab_test,lab_pred,average='micro',zero_division=1)))\n",
        "print(\"\\nRecall Macro: \"+str(recall_score(lab_test,lab_pred, average='macro',zero_division=1)))\n",
        "print(\"\\nRecall Micro: \"+str(recall_score(lab_test,lab_pred, average='micro',zero_division=1)))\n",
        "print(\"\\nF1 Score Macro: \"+str(f1_score(lab_test,lab_pred, average='macro')))\n",
        "print(\"\\nF1 Score Micro: \"+str(f1_score(lab_test,lab_pred, average='micro')))"
      ],
      "execution_count": 0,
      "outputs": [
        {
          "output_type": "stream",
          "text": [
            "Percptron Classifier\n",
            "\n",
            "Accuracy Score: 0.002422373926447919\n",
            "\n",
            "Precision Score Macro: 0.9628871144551706\n",
            "\n",
            "Precision Score Micro: 0.002422373926447919\n",
            "\n",
            "Recall Macro: 0.007591969783204843\n",
            "\n",
            "Recall Micro: 0.002422373926447919\n",
            "\n",
            "F1 Score Macro: 0.0003132693230498308\n",
            "\n",
            "F1 Score Micro: 0.002422373926447919\n"
          ],
          "name": "stdout"
        }
      ]
    },
    {
      "cell_type": "code",
      "metadata": {
        "colab_type": "code",
        "id": "Uu0n7he-3rIS",
        "outputId": "34f15599-e716-4ae3-a09c-5ba0b7f2ad38",
        "colab": {
          "base_uri": "https://localhost:8080/",
          "height": 260
        }
      },
      "source": [
        "from sklearn.linear_model import Perceptron\n",
        "clf = Perceptron(penalty=None, alpha=0.0001, fit_intercept=True, \n",
        "                 max_iter=1000, tol=0.001, shuffle=True, verbose=0, \n",
        "                 eta0=1.0, n_jobs=None, random_state=0, early_stopping=False, \n",
        "                 validation_fraction=0.1, n_iter_no_change=5, class_weight=None, warm_start=False)\n",
        "clf.fit(att_train, lab_train)\n",
        "lab_pred = clf.predict(att_test)\n",
        "print(\"\\nAccuracy Score: \"+ str(accuracy_score(lab_test,lab_pred)))\n",
        "print(\"\\nPrecision Score Macro: \"+str(precision_score(lab_test,lab_pred,average='macro',zero_division=1)))\n",
        "print(\"\\nPrecision Score Micro: \"+str(precision_score(lab_test,lab_pred,average='micro',zero_division=1)))\n",
        "print(\"\\nRecall Macro: \"+str(recall_score(lab_test,lab_pred, average='macro',zero_division=1)))\n",
        "print(\"\\nRecall Micro: \"+str(recall_score(lab_test,lab_pred, average='micro',zero_division=1)))\n",
        "print(\"\\nF1 Score Macro: \"+str(f1_score(lab_test,lab_pred, average='macro')))\n",
        "print(\"\\nF1 Score Micro: \"+str(f1_score(lab_test,lab_pred, average='micro')))"
      ],
      "execution_count": 0,
      "outputs": [
        {
          "output_type": "stream",
          "text": [
            "\n",
            "Accuracy Score: 0.002422373926447919\n",
            "\n",
            "Precision Score Macro: 0.9628871144551706\n",
            "\n",
            "Precision Score Micro: 0.002422373926447919\n",
            "\n",
            "Recall Macro: 0.007591969783204843\n",
            "\n",
            "Recall Micro: 0.002422373926447919\n",
            "\n",
            "F1 Score Macro: 0.0003132693230498308\n",
            "\n",
            "F1 Score Micro: 0.002422373926447919\n"
          ],
          "name": "stdout"
        }
      ]
    }
  ]
}