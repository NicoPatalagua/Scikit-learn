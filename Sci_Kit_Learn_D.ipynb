{
  "nbformat": 4,
  "nbformat_minor": 0,
  "metadata": {
    "kernelspec": {
      "display_name": "Python 3",
      "language": "python",
      "name": "python3"
    },
    "language_info": {
      "codemirror_mode": {
        "name": "ipython",
        "version": 3
      },
      "file_extension": ".py",
      "mimetype": "text/x-python",
      "name": "python",
      "nbconvert_exporter": "python",
      "pygments_lexer": "ipython3",
      "version": "3.8.2"
    },
    "colab": {
      "name": "Sci-Kit Learn_D.ipynb",
      "provenance": [],
      "include_colab_link": true
    }
  },
  "cells": [
    {
      "cell_type": "markdown",
      "metadata": {
        "id": "view-in-github",
        "colab_type": "text"
      },
      "source": [
        "<a href=\"https://colab.research.google.com/github/NicoPatalagua/Scikit-learn/blob/master/Sci_Kit_Learn_D.ipynb\" target=\"_parent\"><img src=\"https://colab.research.google.com/assets/colab-badge.svg\" alt=\"Open In Colab\"/></a>"
      ]
    },
    {
      "cell_type": "markdown",
      "metadata": {
        "id": "O8V9kH7zKz90",
        "colab_type": "text"
      },
      "source": [
        "# Scikit-learn\n",
        "### Nicolás Patalagua\n",
        "\n",
        "Scikit-learn (formerly scikits.learn and also known as sklearn) is a free software machine learning library for the Python programming language. It features various classification, regression and clustering algorithms including support vector machines, random forests, gradient boosting, k-means and DBSCAN, and is designed to interoperate with the Python numerical and scientific libraries NumPy and SciPy."
      ]
    },
    {
      "cell_type": "markdown",
      "metadata": {
        "id": "CnYhY7vwKz91",
        "colab_type": "text"
      },
      "source": [
        "# Ejemplo D: Regresión Lineal\n",
        "\n",
        "$Sci-Kit Learn$ es un poderoso módulo de Python para el aprendizaje de máquina. \n",
        "Contiene funciones de regresión, clasificación, agrupación, selección de modelos y reducción de la dimensionalidad. \n",
        "\n",
        "El ejemplo se utilizará el módulo <a href=\"https://scikit-learn.org/stable/modules/generated/sklearn.linear_model.LinearRegression.html\">sklearn.linear_model</a> que contiene \n",
        "\"métodos destinados a la regresión en los que se espera que el $Target$ Value \n",
        "sea una combinación lineal de las variables de entrada $features$\"."
      ]
    },
    {
      "cell_type": "markdown",
      "metadata": {
        "id": "vYnpBPoYKz92",
        "colab_type": "text"
      },
      "source": [
        "## 1.- Se cargan las bibliotecas con sus módulos correspondientes"
      ]
    },
    {
      "cell_type": "code",
      "metadata": {
        "id": "eg87AHNtKz94",
        "colab_type": "code",
        "colab": {}
      },
      "source": [
        "import numpy as np #Soporte para vectores y matrices\n",
        "import pandas as pd #Manipulación y análisis de datos \n",
        "import scipy.stats as stats #Aplicaciones estadistica \n",
        "import matplotlib.pyplot as plt #Gráficas a partir de datos \n",
        "from sklearn.linear_model import LinearRegression #Modelo de regresión lineal\n",
        "#incorporar las gráficas en este documento\n",
        "%matplotlib inline "
      ],
      "execution_count": 0,
      "outputs": []
    },
    {
      "cell_type": "markdown",
      "metadata": {
        "id": "Ga5rWIqLKz9_",
        "colab_type": "text"
      },
      "source": [
        "## 2.- Exporación y preparación del conjunto de datos "
      ]
    },
    {
      "cell_type": "code",
      "metadata": {
        "id": "ZPcplsylKz-A",
        "colab_type": "code",
        "colab": {},
        "outputId": "657a8b1e-3a0b-451a-a635-96d39ec6f488"
      },
      "source": [
        "#Lectura del csv\n",
        "dataF = pd.read_csv('Salary_Data.csv')\n",
        "#Cabecera del dataset\n",
        "dataF.head()"
      ],
      "execution_count": 0,
      "outputs": [
        {
          "output_type": "execute_result",
          "data": {
            "text/html": [
              "<div>\n",
              "<style scoped>\n",
              "    .dataframe tbody tr th:only-of-type {\n",
              "        vertical-align: middle;\n",
              "    }\n",
              "\n",
              "    .dataframe tbody tr th {\n",
              "        vertical-align: top;\n",
              "    }\n",
              "\n",
              "    .dataframe thead th {\n",
              "        text-align: right;\n",
              "    }\n",
              "</style>\n",
              "<table border=\"1\" class=\"dataframe\">\n",
              "  <thead>\n",
              "    <tr style=\"text-align: right;\">\n",
              "      <th></th>\n",
              "      <th>YearsExperience</th>\n",
              "      <th>Salary</th>\n",
              "    </tr>\n",
              "  </thead>\n",
              "  <tbody>\n",
              "    <tr>\n",
              "      <th>0</th>\n",
              "      <td>1.1</td>\n",
              "      <td>39343.0</td>\n",
              "    </tr>\n",
              "    <tr>\n",
              "      <th>1</th>\n",
              "      <td>1.3</td>\n",
              "      <td>46205.0</td>\n",
              "    </tr>\n",
              "    <tr>\n",
              "      <th>2</th>\n",
              "      <td>1.5</td>\n",
              "      <td>37731.0</td>\n",
              "    </tr>\n",
              "    <tr>\n",
              "      <th>3</th>\n",
              "      <td>2.0</td>\n",
              "      <td>43525.0</td>\n",
              "    </tr>\n",
              "    <tr>\n",
              "      <th>4</th>\n",
              "      <td>2.2</td>\n",
              "      <td>39891.0</td>\n",
              "    </tr>\n",
              "  </tbody>\n",
              "</table>\n",
              "</div>"
            ],
            "text/plain": [
              "   YearsExperience   Salary\n",
              "0              1.1  39343.0\n",
              "1              1.3  46205.0\n",
              "2              1.5  37731.0\n",
              "3              2.0  43525.0\n",
              "4              2.2  39891.0"
            ]
          },
          "metadata": {
            "tags": []
          },
          "execution_count": 2
        }
      ]
    },
    {
      "cell_type": "markdown",
      "metadata": {
        "id": "xkbfHeWwKz-H",
        "colab_type": "text"
      },
      "source": [
        "## 3.- A continuación se ajustará el modelo de regresión lineal y predecir \n",
        "Para estimar los coeficientes se usará el método de <a href=\"https://www.varsitytutors.com/hotmath/hotmath_help/spanish/topics/line-of-best-fit\">Mínimos Cuadrados.</a>. \n",
        "\n",
        "### X = dataF[\"YearsExperience\"] (o variables independientes)\n",
        "### Y = dataF[\"Salary\"]\n"
      ]
    },
    {
      "cell_type": "markdown",
      "metadata": {
        "id": "piaCqqmuKz-I",
        "colab_type": "text"
      },
      "source": [
        "### Las funciones importantes a tener en cuenta al ajustar un modelo de regresión lineal son:\n",
        "\n",
        "**lm.fit()**     -> Ajusta a un modelo lineal\n",
        "\n",
        "**lm.predict()** -> Predecir **$Y$** usando el modelo lineal con coeficientes estimados\n",
        "\n",
        "**lm.score()**   -> Devuelve el <a href=\"https://www.addlink.es/noticias/minitab/2736-como-interpretar-un-modelo-de-regresion-con-bajo-coeficiente-de-determinacion-r-cuadrado-y-bajos-valores-p\">coeficiente de determinación (R$^2$)</a>. \n",
        " \n",
        " - [Una medida de cuán bien se replican los resultados observados por el modelo, \n",
        "como la proporción de la variación total de los resultados explicada por el modelo.]\n",
        "    \n",
        "\n",
        "### Por hacer\n",
        "- Diagrama de dispersión (X;Y).\n",
        "- Ajuste a modelo lineal\n",
        "- Selección del modelo lineal\n",
        "- Entrenamiento del modelo\n",
        "- Impresión coeficientes e intersepción.\n",
        "- Diagrama de Dispersión."
      ]
    },
    {
      "cell_type": "code",
      "metadata": {
        "id": "7mswStrrKz-K",
        "colab_type": "code",
        "colab": {},
        "outputId": "7d3cfde7-59d5-4f65-8d6a-05543f202b31"
      },
      "source": [
        "#Graficamos el diagrama de dispersión\n",
        "plt.figure(figsize=(12, 4))\n",
        "plt.scatter(\n",
        "    dataF['YearsExperience'],\n",
        "    dataF['Salary'],\n",
        "    c='c'\n",
        ")\n",
        "plt.title(\"Gráfico Dispersión Tv vs Sales\", fontsize=16, fontweight='bold')\n",
        "plt.xlabel(\"YearsExperience\")\n",
        "plt.ylabel(\"Salary\")\n",
        "plt.show()"
      ],
      "execution_count": 0,
      "outputs": [
        {
          "output_type": "display_data",
          "data": {
            "image/png": "[encoded data removed]",
            "text/plain": [
              "<Figure size 864x288 with 1 Axes>"
            ]
          },
          "metadata": {
            "tags": [],
            "needs_background": "light"
          }
        }
      ]
    },
    {
      "cell_type": "code",
      "metadata": {
        "id": "PExCfpeLKz-R",
        "colab_type": "code",
        "colab": {}
      },
      "source": [
        "#Asignamos valores a las variables x y y\n",
        "X = dataF['YearsExperience'].values.reshape(-1,1)\n",
        "y = dataF['Salary'].values.reshape(-1,1)"
      ],
      "execution_count": 0,
      "outputs": []
    },
    {
      "cell_type": "code",
      "metadata": {
        "id": "VGjurOVXKz-U",
        "colab_type": "code",
        "colab": {}
      },
      "source": [
        "# Selección a modelo lineal\n",
        "modelo = LinearRegression()"
      ],
      "execution_count": 0,
      "outputs": []
    },
    {
      "cell_type": "code",
      "metadata": {
        "id": "JCsRFjqPKz-Y",
        "colab_type": "code",
        "colab": {}
      },
      "source": [
        "# Entrenar el model0\n",
        "modelo.fit(X, y)\n",
        "y_predicted = modelo.predict(X)"
      ],
      "execution_count": 0,
      "outputs": []
    },
    {
      "cell_type": "code",
      "metadata": {
        "id": "SPCxiouRKz-e",
        "colab_type": "code",
        "colab": {},
        "outputId": "886189cd-4f23-4d68-f2a2-c435914cef23"
      },
      "source": [
        "# Impresión de intercepción, coeficientes y numero de coeficientes\n",
        "t0, t1 = modelo.intercept_[0], modelo.coef_[0][0]\n",
        "print('Intercepción: ',t0,'\\n Coeficientes: ',t1)"
      ],
      "execution_count": 0,
      "outputs": [
        {
          "output_type": "stream",
          "text": [
            "Intercepción:  25792.20019866871 \n",
            " Coeficientes:  9449.962321455074\n"
          ],
          "name": "stdout"
        }
      ]
    },
    {
      "cell_type": "code",
      "metadata": {
        "id": "DqXp9javKz-i",
        "colab_type": "code",
        "colab": {},
        "outputId": "86e5cf04-9c74-49b4-fc58-cccefc7c2341"
      },
      "source": [
        "print('Coeficiente: ',modelo.coef_)\n",
        "print('Tamaño coeficiente: ',len(modelo.coef_))\n",
        "print('Intercepción: ',modelo.intercept_)"
      ],
      "execution_count": 0,
      "outputs": [
        {
          "output_type": "stream",
          "text": [
            "Coeficiente:  [[9449.96232146]]\n",
            "Tamaño coeficiente:  1\n",
            "Intercepción:  [25792.20019867]\n"
          ],
          "name": "stdout"
        }
      ]
    },
    {
      "cell_type": "markdown",
      "metadata": {
        "id": "degGm2CxKz-n",
        "colab_type": "text"
      },
      "source": [
        "## 4.-  Predicción \n",
        "\n",
        "- Se calcula la predicción $\\hat{Y}_i$ (.predict)\n",
        "- Diagrama de dispersión "
      ]
    },
    {
      "cell_type": "code",
      "metadata": {
        "id": "l4JNDvwHKz-n",
        "colab_type": "code",
        "colab": {},
        "outputId": "df468c89-d427-46fa-f578-7e5ac80137db"
      },
      "source": [
        "# Make a prediction\n",
        "X_new = [[3000]]  \n",
        "print(modelo.predict(X_new))"
      ],
      "execution_count": 0,
      "outputs": [
        {
          "output_type": "stream",
          "text": [
            "[[28375679.16456389]]\n"
          ],
          "name": "stdout"
        }
      ]
    },
    {
      "cell_type": "markdown",
      "metadata": {
        "id": "LUWN2v7ZKz-t",
        "colab_type": "text"
      },
      "source": [
        "## 5.- Se calcula el <a href=https://acolita.com/que-es-el-error-cuadratico-medio-rmse/>Error Cuadrático Medio y la presición del modelo</a>.\n",
        "\n",
        "El Root Mean Square Error (RMSE) es la desviación estándar de los residuos (errores de predicción). Los residuos son una medida de cuán lejos de la línea de regresión están los puntos de datos; RMSE es una medida de cuán extendidos están estos residuos. En otras palabras, presenta cuán concentrados están los datos alrededor de la línea de mejor ajuste.\n",
        "\n",
        "- Entre el Real y la predicción \n",
        "- modelo.score()"
      ]
    },
    {
      "cell_type": "code",
      "metadata": {
        "id": "in9LWgsaKz-u",
        "colab_type": "code",
        "colab": {},
        "outputId": "0f6df701-1573-4d76-d170-b7efe5ccfa0f"
      },
      "source": [
        "# Imprimimos MSE, RMSE y r2_score\n",
        "from sklearn.metrics import mean_squared_error, r2_score\n",
        "import math\n",
        "mseTOTAL = mean_squared_error(y, y_predicted)\n",
        "r2 = r2_score(y, y_predicted)\n",
        "print(\"Error Cuadrático Medio (MSE): \", mseTOTAL)\n",
        "print(\"RMSE: \", math.sqrt(mseTOTAL))\n",
        "print(\"r2_score\", r2)"
      ],
      "execution_count": 0,
      "outputs": [
        {
          "output_type": "stream",
          "text": [
            "Error Cuadrático Medio (MSE):  31270951.722280968\n",
            "RMSE:  5592.043608760662\n",
            "r2_score 0.9569566641435086\n"
          ],
          "name": "stdout"
        }
      ]
    }
  ]
}