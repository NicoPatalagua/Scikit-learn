{
  "nbformat": 4,
  "nbformat_minor": 0,
  "metadata": {
    "kernelspec": {
      "display_name": "Python 3",
      "language": "python",
      "name": "python3"
    },
    "language_info": {
      "codemirror_mode": {
        "name": "ipython",
        "version": 3
      },
      "file_extension": ".py",
      "mimetype": "text/x-python",
      "name": "python",
      "nbconvert_exporter": "python",
      "pygments_lexer": "ipython3",
      "version": "3.7.6"
    },
    "colab": {
      "name": "Sci-Kit Learn_A.ipynb",
      "provenance": [],
      "include_colab_link": true
    }
  },
  "cells": [
    {
      "cell_type": "markdown",
      "metadata": {
        "id": "view-in-github",
        "colab_type": "text"
      },
      "source": [
        "<a href=\"https://colab.research.google.com/github/NicoPatalagua/Scikit-learn/blob/master/Sci_Kit_Learn_A.ipynb\" target=\"_parent\"><img src=\"https://colab.research.google.com/assets/colab-badge.svg\" alt=\"Open In Colab\"/></a>"
      ]
    },
    {
      "cell_type": "markdown",
      "metadata": {
        "id": "v0Wz4rfMIPuD",
        "colab_type": "text"
      },
      "source": [
        "# Ejemplo A: Regresión Lineal\n",
        "\n",
        "$Sci-Kit Learn$ es un poderoso módulo de Python para el aprendizaje de máquina. \n",
        "Contiene funciones de regresión, clasificación, agrupación, selección de modelos y reducción de la dimensionalidad. \n",
        "\n",
        "El ejemplo se utilizará el módulo <a href=\"https://scikit-learn.org/stable/modules/generated/sklearn.linear_model.LinearRegression.html\">sklearn.linear_model</a> que contiene \n",
        "\"métodos destinados a la regresión en los que se espera que el $Target$ Value \n",
        "sea una combinación lineal de las variables de entrada $features$\".\n",
        "\n",
        "\n"
      ]
    },
    {
      "cell_type": "markdown",
      "metadata": {
        "id": "eNRDgSUvIPui",
        "colab_type": "text"
      },
      "source": [
        "## 1.- Se cargan las bibliotecas con sus módulos correspondientes"
      ]
    },
    {
      "cell_type": "code",
      "metadata": {
        "id": "WATHw_hSIPus",
        "colab_type": "code",
        "colab": {}
      },
      "source": [
        "import numpy as np\n",
        "import pandas as pd\n",
        "import scipy.stats as stats\n",
        "import matplotlib.pyplot as plt\n",
        "from sklearn.linear_model import LinearRegression\n",
        "%matplotlib inline"
      ],
      "execution_count": 0,
      "outputs": []
    },
    {
      "cell_type": "markdown",
      "metadata": {
        "id": "h3viCWQcIPu9",
        "colab_type": "text"
      },
      "source": [
        "## 2.- Exporación y preparación del conjunto de datos "
      ]
    },
    {
      "cell_type": "code",
      "metadata": {
        "id": "TACE2ra_IPvA",
        "colab_type": "code",
        "outputId": "d64868db-495e-4a3f-94e0-7b9ac8adf7bf",
        "colab": {}
      },
      "source": [
        "dataF = pd.read_csv('./data/forestfires.csv')\n",
        "dataF.head()"
      ],
      "execution_count": 0,
      "outputs": [
        {
          "output_type": "execute_result",
          "data": {
            "text/html": [
              "<div>\n",
              "<style scoped>\n",
              "    .dataframe tbody tr th:only-of-type {\n",
              "        vertical-align: middle;\n",
              "    }\n",
              "\n",
              "    .dataframe tbody tr th {\n",
              "        vertical-align: top;\n",
              "    }\n",
              "\n",
              "    .dataframe thead th {\n",
              "        text-align: right;\n",
              "    }\n",
              "</style>\n",
              "<table border=\"1\" class=\"dataframe\">\n",
              "  <thead>\n",
              "    <tr style=\"text-align: right;\">\n",
              "      <th></th>\n",
              "      <th>X</th>\n",
              "      <th>Y</th>\n",
              "      <th>month</th>\n",
              "      <th>day</th>\n",
              "      <th>FFMC</th>\n",
              "      <th>DMC</th>\n",
              "      <th>DC</th>\n",
              "      <th>ISI</th>\n",
              "      <th>temp</th>\n",
              "      <th>RH</th>\n",
              "      <th>wind</th>\n",
              "      <th>rain</th>\n",
              "      <th>area</th>\n",
              "    </tr>\n",
              "  </thead>\n",
              "  <tbody>\n",
              "    <tr>\n",
              "      <th>0</th>\n",
              "      <td>7</td>\n",
              "      <td>5</td>\n",
              "      <td>mar</td>\n",
              "      <td>fri</td>\n",
              "      <td>86.2</td>\n",
              "      <td>26.2</td>\n",
              "      <td>94.3</td>\n",
              "      <td>5.1</td>\n",
              "      <td>8.2</td>\n",
              "      <td>51</td>\n",
              "      <td>6.7</td>\n",
              "      <td>0.0</td>\n",
              "      <td>0.0</td>\n",
              "    </tr>\n",
              "    <tr>\n",
              "      <th>1</th>\n",
              "      <td>7</td>\n",
              "      <td>4</td>\n",
              "      <td>oct</td>\n",
              "      <td>tue</td>\n",
              "      <td>90.6</td>\n",
              "      <td>35.4</td>\n",
              "      <td>669.1</td>\n",
              "      <td>6.7</td>\n",
              "      <td>18.0</td>\n",
              "      <td>33</td>\n",
              "      <td>0.9</td>\n",
              "      <td>0.0</td>\n",
              "      <td>0.0</td>\n",
              "    </tr>\n",
              "    <tr>\n",
              "      <th>2</th>\n",
              "      <td>7</td>\n",
              "      <td>4</td>\n",
              "      <td>oct</td>\n",
              "      <td>sat</td>\n",
              "      <td>90.6</td>\n",
              "      <td>43.7</td>\n",
              "      <td>686.9</td>\n",
              "      <td>6.7</td>\n",
              "      <td>14.6</td>\n",
              "      <td>33</td>\n",
              "      <td>1.3</td>\n",
              "      <td>0.0</td>\n",
              "      <td>0.0</td>\n",
              "    </tr>\n",
              "    <tr>\n",
              "      <th>3</th>\n",
              "      <td>8</td>\n",
              "      <td>6</td>\n",
              "      <td>mar</td>\n",
              "      <td>fri</td>\n",
              "      <td>91.7</td>\n",
              "      <td>33.3</td>\n",
              "      <td>77.5</td>\n",
              "      <td>9.0</td>\n",
              "      <td>8.3</td>\n",
              "      <td>97</td>\n",
              "      <td>4.0</td>\n",
              "      <td>0.2</td>\n",
              "      <td>0.0</td>\n",
              "    </tr>\n",
              "    <tr>\n",
              "      <th>4</th>\n",
              "      <td>8</td>\n",
              "      <td>6</td>\n",
              "      <td>mar</td>\n",
              "      <td>sun</td>\n",
              "      <td>89.3</td>\n",
              "      <td>51.3</td>\n",
              "      <td>102.2</td>\n",
              "      <td>9.6</td>\n",
              "      <td>11.4</td>\n",
              "      <td>99</td>\n",
              "      <td>1.8</td>\n",
              "      <td>0.0</td>\n",
              "      <td>0.0</td>\n",
              "    </tr>\n",
              "  </tbody>\n",
              "</table>\n",
              "</div>"
            ],
            "text/plain": [
              "   X  Y month  day  FFMC   DMC     DC  ISI  temp  RH  wind  rain  area\n",
              "0  7  5   mar  fri  86.2  26.2   94.3  5.1   8.2  51   6.7   0.0   0.0\n",
              "1  7  4   oct  tue  90.6  35.4  669.1  6.7  18.0  33   0.9   0.0   0.0\n",
              "2  7  4   oct  sat  90.6  43.7  686.9  6.7  14.6  33   1.3   0.0   0.0\n",
              "3  8  6   mar  fri  91.7  33.3   77.5  9.0   8.3  97   4.0   0.2   0.0\n",
              "4  8  6   mar  sun  89.3  51.3  102.2  9.6  11.4  99   1.8   0.0   0.0"
            ]
          },
          "metadata": {
            "tags": []
          },
          "execution_count": 3
        }
      ]
    },
    {
      "cell_type": "markdown",
      "metadata": {
        "id": "P72t_nfOIPyJ",
        "colab_type": "text"
      },
      "source": [
        "## 3.- A continuación se ajustará el modelo de regresión lineal y predecir\n",
        "\n",
        "Para estimar los coeficientes se usará el método de <a href=\"https://www.varsitytutors.com/hotmath/hotmath_help/spanish/topics/line-of-best-fit\">Mínimos Cuadrados.</a>. \n",
        "\n",
        "\n",
        "### X = dataF[\"temp\"] (o variables independientes)\n",
        "### Y = dataF[\"area\"]\n"
      ]
    },
    {
      "cell_type": "markdown",
      "metadata": {
        "id": "TJLyyUXcIPyM",
        "colab_type": "text"
      },
      "source": [
        "### Las funciones importantes a tener en cuenta al ajustar un modelo de regresión lineal son:\n",
        "\n",
        "**lm.fit()**     -> Ajusta a un modelo lineal\n",
        "\n",
        "**lm.predict()** -> Predecir **$Y$** usando el modelo lineal con coeficientes estimados\n",
        "\n",
        "**lm.score()**   -> Devuelve el <a href=\"https://www.addlink.es/noticias/minitab/2736-como-interpretar-un-modelo-de-regresion-con-bajo-coeficiente-de-determinacion-r-cuadrado-y-bajos-valores-p\">coeficiente de determinación (R$^2$)</a>. \n",
        " \n",
        " - [Una medida de cuán bien se replican los resultados observados por el modelo, \n",
        "como la proporción de la variación total de los resultados explicada por el modelo.]\n",
        "    \n",
        "\n",
        "### Por hacer\n",
        "- Diagrama de dispersión (X;Y).\n",
        "- Ajuste a modelo lineal\n",
        "- Selección del modelo lineal\n",
        "- Entrenamiento del modelo\n",
        "- Impresión coeficientes e intersepción.\n",
        "- Diagrama de Dispersión."
      ]
    },
    {
      "cell_type": "code",
      "metadata": {
        "scrolled": true,
        "id": "8h2jpanFIPyN",
        "colab_type": "code",
        "outputId": "9d6d381b-c927-459d-955b-d7ca7791fb68",
        "colab": {}
      },
      "source": [
        "plt.figure(figsize=(12, 4))\n",
        "plt.scatter(\n",
        "    dataF['temp'],\n",
        "    dataF['area'],\n",
        "    c='orange'\n",
        ")\n",
        "plt.title(\"Gráfico Dispersión Area vs Temperatura\", fontsize=16, fontweight='bold')\n",
        "plt.xlabel(\"Temperatura\")\n",
        "plt.ylabel(\"Area\")\n",
        "plt.show()"
      ],
      "execution_count": 0,
      "outputs": [
        {
          "output_type": "display_data",
          "data": {
            "image/png": "[encoded data removed]",
            "text/plain": [
              "<Figure size 864x288 with 1 Axes>"
            ]
          },
          "metadata": {
            "tags": [],
            "needs_background": "light"
          }
        }
      ]
    },
    {
      "cell_type": "code",
      "metadata": {
        "id": "XYpYoxeWIPyj",
        "colab_type": "code",
        "colab": {}
      },
      "source": [
        "X = dataF[\"temp\"].values.reshape(-1,1)\n",
        "y = dataF[\"area\"].values.reshape(-1,1)"
      ],
      "execution_count": 0,
      "outputs": []
    },
    {
      "cell_type": "code",
      "metadata": {
        "id": "IVVJqy82IPy7",
        "colab_type": "code",
        "colab": {}
      },
      "source": [
        "# Selección a modelo lineal\n",
        "modelo = LinearRegression()"
      ],
      "execution_count": 0,
      "outputs": []
    },
    {
      "cell_type": "code",
      "metadata": {
        "id": "rESl8xrWIPzC",
        "colab_type": "code",
        "colab": {}
      },
      "source": [
        "# Entrenar el model0\n",
        "modelo.fit(X, y)\n",
        "y_predicted = modelo.predict(X)"
      ],
      "execution_count": 0,
      "outputs": []
    },
    {
      "cell_type": "code",
      "metadata": {
        "id": "Iyybfll_IPzK",
        "colab_type": "code",
        "outputId": "db132d90-f949-4338-8558-e303fc5a551f",
        "colab": {}
      },
      "source": [
        "t0, t1 = modelo.intercept_[0], modelo.coef_[0][0]\n",
        "t0, t1"
      ],
      "execution_count": 0,
      "outputs": [
        {
          "output_type": "execute_result",
          "data": {
            "text/plain": [
              "(-7.413751564770029, 1.0726276210600474)"
            ]
          },
          "metadata": {
            "tags": []
          },
          "execution_count": 8
        }
      ]
    },
    {
      "cell_type": "code",
      "metadata": {
        "id": "yfjybKVoIPzS",
        "colab_type": "code",
        "outputId": "8f2b0e1c-1abc-477f-c749-2b22472da063",
        "colab": {}
      },
      "source": [
        "# Impresión de intercepción, coeficientes y numero de coeficientes\n",
        "print(modelo.coef_)\n",
        "print(len(modelo.coef_))\n",
        "print(modelo.intercept_)"
      ],
      "execution_count": 0,
      "outputs": [
        {
          "output_type": "stream",
          "text": [
            "[[1.07262762]]\n",
            "1\n",
            "[-7.41375156]\n"
          ],
          "name": "stdout"
        }
      ]
    },
    {
      "cell_type": "code",
      "metadata": {
        "id": "M2G5XkOhIPzd",
        "colab_type": "code",
        "outputId": "ad39745d-08bd-4bf7-cc47-2db22649e627",
        "colab": {}
      },
      "source": [
        "plt.figure(figsize=(12, 4))\n",
        "plt.scatter(\n",
        "    dataF['temp'],\n",
        "    dataF['area'],\n",
        "    c='orange'\n",
        ")\n",
        "plt.plot(\n",
        "    dataF['temp'],\n",
        "    y_predicted,\n",
        "    c='blue',\n",
        "    linewidth=3\n",
        ")\n",
        "plt.axis([0, 40, -5, 40])\n",
        "plt.title(\"Gráfica de Modelo de Mejor Ajuste\", fontsize=16, fontweight='bold')\n",
        "plt.xlabel(\"Temperatura\")\n",
        "plt.ylabel(\"Area\")\n",
        "plt.show()"
      ],
      "execution_count": 0,
      "outputs": [
        {
          "output_type": "display_data",
          "data": {
            "image/png": "[encoded data removed]",
            "text/plain": [
              "<Figure size 864x288 with 1 Axes>"
            ]
          },
          "metadata": {
            "tags": [],
            "needs_background": "light"
          }
        }
      ]
    },
    {
      "cell_type": "markdown",
      "metadata": {
        "id": "Zr2Hc_I2IPzm",
        "colab_type": "text"
      },
      "source": [
        "## 4.-  Predicción \n",
        "\n",
        "- Se calcula la predicción $\\hat{Y}_i$ (.predict)"
      ]
    },
    {
      "cell_type": "code",
      "metadata": {
        "id": "2cMlTSwPIPzn",
        "colab_type": "code",
        "outputId": "b13216c3-d4fa-4c90-b7c2-dc88817b136f",
        "colab": {}
      },
      "source": [
        "# Make a prediction for Cyprus\n",
        "X_new = [[35]]  # Cyprus' GDP per capita\n",
        "print(modelo.predict(X_new)) # outputs [[ 5.96242338]]"
      ],
      "execution_count": 0,
      "outputs": [
        {
          "output_type": "stream",
          "text": [
            "[[30.12821517]]\n"
          ],
          "name": "stdout"
        }
      ]
    },
    {
      "cell_type": "markdown",
      "metadata": {
        "id": "tE1H91DpIPzu",
        "colab_type": "text"
      },
      "source": [
        "## 5.- Se calcula el <a href=https://acolita.com/que-es-el-error-cuadratico-medio-rmse/>Error Cuadrático Medio y la presición del modelo</a>.\n",
        "\n",
        "El Root Mean Square Error (RMSE) es la desviación estándar de los residuos (errores de predicción). Los residuos son una medida de cuán lejos de la línea de regresión están los puntos de datos; RMSE es una medida de cuán extendidos están estos residuos. En otras palabras, presenta cuán concentrados están los datos alrededor de la línea de mejor ajuste.\n",
        "\n",
        "\n",
        "- Entre el Real y la predicción \n",
        "- modelo.score()"
      ]
    },
    {
      "cell_type": "code",
      "metadata": {
        "id": "h0fyST5VIPzw",
        "colab_type": "code",
        "outputId": "be3ed652-a561-4f73-dd89-4959954cd477",
        "colab": {}
      },
      "source": [
        "from sklearn.metrics import mean_squared_error, r2_score\n",
        "import math\n",
        "\n",
        "mseTOTAL = mean_squared_error(y, y_predicted)\n",
        "r2 = r2_score(y, y_predicted)\n",
        "print(\"Error Cuadrático Medio (MSE): \", mseTOTAL)\n",
        "print(\"RMSE: \", math.sqrt(mseTOTAL))\n",
        "print(\"r2_score\", r2)"
      ],
      "execution_count": 0,
      "outputs": [
        {
          "output_type": "stream",
          "text": [
            "Error Cuadrático Medio (MSE):  4005.5083087693224\n",
            "RMSE:  63.28908522620091\n",
            "r2_score 0.009573469341491059\n"
          ],
          "name": "stdout"
        }
      ]
    },
    {
      "cell_type": "code",
      "metadata": {
        "id": "LFq1FQWcIPz6",
        "colab_type": "code",
        "colab": {}
      },
      "source": [
        ""
      ],
      "execution_count": 0,
      "outputs": []
    }
  ]
}