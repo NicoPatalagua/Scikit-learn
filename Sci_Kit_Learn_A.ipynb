{
  "nbformat": 4,
  "nbformat_minor": 0,
  "metadata": {
    "kernelspec": {
      "display_name": "Python 3",
      "language": "python",
      "name": "python3"
    },
    "language_info": {
      "codemirror_mode": {
        "name": "ipython",
        "version": 3
      },
      "file_extension": ".py",
      "mimetype": "text/x-python",
      "name": "python",
      "nbconvert_exporter": "python",
      "pygments_lexer": "ipython3",
      "version": "3.7.6"
    },
    "colab": {
      "name": "Sci-Kit Learn_A.ipynb",
      "provenance": [],
      "collapsed_sections": [],
      "include_colab_link": true
    }
  },
  "cells": [
    {
      "cell_type": "markdown",
      "metadata": {
        "id": "view-in-github",
        "colab_type": "text"
      },
      "source": [
        "<a href=\"https://colab.research.google.com/github/NicoPatalagua/Scikit-learn/blob/master/Sci_Kit_Learn_A.ipynb\" target=\"_parent\"><img src=\"https://colab.research.google.com/assets/colab-badge.svg\" alt=\"Open In Colab\"/></a>"
      ]
    },
    {
      "cell_type": "markdown",
      "metadata": {
        "id": "EMmoMKSMOVCW",
        "colab_type": "text"
      },
      "source": [
        "# Ejemplo A: Regresión Lineal - MultiVariable\n",
        "\n",
        "$Sci-Kit Learn$ es un poderoso módulo de Python para el aprendizaje de máquina. \n",
        "Contiene funciones de regresión, clasificación, agrupación, selección de modelos y reducción de la dimensionalidad. \n",
        "\n",
        "El ejemplo se utilizará el módulo <a href=\"https://scikit-learn.org/stable/modules/generated/sklearn.linear_model.LinearRegression.html\">sklearn.linear_model</a> que contiene \n",
        "\"métodos destinados a la regresión en los que se espera que el \"Target Value\" \n",
        "sea una combinación lineal de las variables de entrada\".\n",
        "\n",
        "\n"
      ]
    },
    {
      "cell_type": "markdown",
      "metadata": {
        "id": "QkvULtMVOVCY",
        "colab_type": "text"
      },
      "source": [
        "## 1.- Se cargan las bibliotecas con sus módulos correspondientes"
      ]
    },
    {
      "cell_type": "code",
      "metadata": {
        "id": "K3y_bzAvOVCZ",
        "colab_type": "code",
        "colab": {
          "base_uri": "https://localhost:8080/",
          "height": 72
        },
        "outputId": "bf0a1503-b3bc-4900-e313-8a7fb6a51970"
      },
      "source": [
        "import numpy as np #Soporte para vectores y matrices\n",
        "import pandas as pd #Manipulación y análisis de datos \n",
        "import seaborn as sns #Graficos elegantes \n",
        "import matplotlib.pyplot as plt #Diseño y realización de graficas\n",
        "#incorporar las gráficas en este documento\n",
        "%matplotlib inline"
      ],
      "execution_count": 1,
      "outputs": [
        {
          "output_type": "stream",
          "text": [
            "/usr/local/lib/python3.6/dist-packages/statsmodels/tools/_testing.py:19: FutureWarning: pandas.util.testing is deprecated. Use the functions in the public API at pandas.testing instead.\n",
            "  import pandas.util.testing as tm\n"
          ],
          "name": "stderr"
        }
      ]
    },
    {
      "cell_type": "markdown",
      "metadata": {
        "id": "qDcqxZ87OVCd",
        "colab_type": "text"
      },
      "source": [
        "- <a href=\"https://matplotlib.org/2.1.2/Matplotlib.pdf\">MatPlotLib</a>\n",
        "- <a href=\"https://scikit-learn.org/stable/modules/classes.html#module-sklearn.model_selection\"> module-sklearn.model_selection </a>\n",
        "- <a href=\"https://scikit-learn.org/stable/datasets/index.html\"> sklearn.datasets </a>\n",
        "- <a href=\"https://scikit-learn.org/stable/modules/classes.html#sklearn-metrics-metrics\"> sklearn.metrics </a>"
      ]
    },
    {
      "cell_type": "code",
      "metadata": {
        "id": "15r79YU8OVCe",
        "colab_type": "code",
        "colab": {}
      },
      "source": [
        "from sklearn.model_selection import train_test_split #Dividir dataset en trenes aleatorios y subconjuntos de prueba\n",
        "from sklearn.linear_model import LinearRegression #Regresión lineal de mínimos cuadrados ordinarios.\n",
        "from sklearn.metrics import mean_absolute_error, mean_squared_error, r2_score\n",
        "#Error cuadratico medio, error absoluto medio y r2 score."
      ],
      "execution_count": 0,
      "outputs": []
    },
    {
      "cell_type": "markdown",
      "metadata": {
        "id": "glDBKKUsOVCi",
        "colab_type": "text"
      },
      "source": [
        "## 2.- Exporación y preparación del conjunto de datos "
      ]
    },
    {
      "cell_type": "code",
      "metadata": {
        "id": "jfMnV6ivOVCj",
        "colab_type": "code",
        "colab": {
          "base_uri": "https://localhost:8080/",
          "height": 202
        },
        "outputId": "93619455-c33a-4032-86a4-64ce317be568"
      },
      "source": [
        "#Exportamos el dataset\n",
        "ObjData=pd.read_csv('data.csv')\n",
        "#Presentar la cabecera del dataset\n",
        "ObjData.head()"
      ],
      "execution_count": 3,
      "outputs": [
        {
          "output_type": "execute_result",
          "data": {
            "text/html": [
              "<div>\n",
              "<style scoped>\n",
              "    .dataframe tbody tr th:only-of-type {\n",
              "        vertical-align: middle;\n",
              "    }\n",
              "\n",
              "    .dataframe tbody tr th {\n",
              "        vertical-align: top;\n",
              "    }\n",
              "\n",
              "    .dataframe thead th {\n",
              "        text-align: right;\n",
              "    }\n",
              "</style>\n",
              "<table border=\"1\" class=\"dataframe\">\n",
              "  <thead>\n",
              "    <tr style=\"text-align: right;\">\n",
              "      <th></th>\n",
              "      <th>R&amp;D Spend</th>\n",
              "      <th>Administration</th>\n",
              "      <th>Marketing Spend</th>\n",
              "      <th>State</th>\n",
              "      <th>Profit</th>\n",
              "    </tr>\n",
              "  </thead>\n",
              "  <tbody>\n",
              "    <tr>\n",
              "      <th>0</th>\n",
              "      <td>165349.20</td>\n",
              "      <td>136897.80</td>\n",
              "      <td>471784.10</td>\n",
              "      <td>New York</td>\n",
              "      <td>192261.83</td>\n",
              "    </tr>\n",
              "    <tr>\n",
              "      <th>1</th>\n",
              "      <td>162597.70</td>\n",
              "      <td>151377.59</td>\n",
              "      <td>443898.53</td>\n",
              "      <td>California</td>\n",
              "      <td>191792.06</td>\n",
              "    </tr>\n",
              "    <tr>\n",
              "      <th>2</th>\n",
              "      <td>153441.51</td>\n",
              "      <td>101145.55</td>\n",
              "      <td>407934.54</td>\n",
              "      <td>Florida</td>\n",
              "      <td>191050.39</td>\n",
              "    </tr>\n",
              "    <tr>\n",
              "      <th>3</th>\n",
              "      <td>144372.41</td>\n",
              "      <td>118671.85</td>\n",
              "      <td>383199.62</td>\n",
              "      <td>New York</td>\n",
              "      <td>182901.99</td>\n",
              "    </tr>\n",
              "    <tr>\n",
              "      <th>4</th>\n",
              "      <td>142107.34</td>\n",
              "      <td>91391.77</td>\n",
              "      <td>366168.42</td>\n",
              "      <td>Florida</td>\n",
              "      <td>166187.94</td>\n",
              "    </tr>\n",
              "  </tbody>\n",
              "</table>\n",
              "</div>"
            ],
            "text/plain": [
              "   R&D Spend  Administration  Marketing Spend       State     Profit\n",
              "0  165349.20       136897.80        471784.10    New York  192261.83\n",
              "1  162597.70       151377.59        443898.53  California  191792.06\n",
              "2  153441.51       101145.55        407934.54     Florida  191050.39\n",
              "3  144372.41       118671.85        383199.62    New York  182901.99\n",
              "4  142107.34        91391.77        366168.42     Florida  166187.94"
            ]
          },
          "metadata": {
            "tags": []
          },
          "execution_count": 3
        }
      ]
    },
    {
      "cell_type": "code",
      "metadata": {
        "id": "VqGiKI3zpUDE",
        "colab_type": "code",
        "colab": {
          "base_uri": "https://localhost:8080/",
          "height": 34
        },
        "outputId": "f9bd5025-02f7-4962-91cb-f9f0c9e7f607"
      },
      "source": [
        "#Presentar la cantidad de filas y columnas:\n",
        "ObjData.shape"
      ],
      "execution_count": 4,
      "outputs": [
        {
          "output_type": "execute_result",
          "data": {
            "text/plain": [
              "(50, 5)"
            ]
          },
          "metadata": {
            "tags": []
          },
          "execution_count": 4
        }
      ]
    },
    {
      "cell_type": "code",
      "metadata": {
        "id": "A9_jS3lZjdkO",
        "colab_type": "code",
        "colab": {
          "base_uri": "https://localhost:8080/",
          "height": 34
        },
        "outputId": "820abb5a-44fe-478d-a685-cae2018db3c9"
      },
      "source": [
        "#Limpiamos el dataset\n",
        "ObjData.dropna()\n",
        "ObjData.shape"
      ],
      "execution_count": 5,
      "outputs": [
        {
          "output_type": "execute_result",
          "data": {
            "text/plain": [
              "(50, 5)"
            ]
          },
          "metadata": {
            "tags": []
          },
          "execution_count": 5
        }
      ]
    },
    {
      "cell_type": "code",
      "metadata": {
        "id": "_TNwSsa0jdvZ",
        "colab_type": "code",
        "colab": {
          "base_uri": "https://localhost:8080/",
          "height": 52
        },
        "outputId": "2ac2bd39-57b5-4c0c-f84b-102a8aa054d4"
      },
      "source": [
        "print(\"Columnas: \",ObjData.columns)\n",
        "print(\"Número de filas: \",ObjData.shape[0])"
      ],
      "execution_count": 6,
      "outputs": [
        {
          "output_type": "stream",
          "text": [
            "Columnas:  Index(['R&D Spend', 'Administration', 'Marketing Spend', 'State', 'Profit'], dtype='object')\n",
            "Número de filas:  50\n"
          ],
          "name": "stdout"
        }
      ]
    },
    {
      "cell_type": "code",
      "metadata": {
        "id": "dIKG0wEpqntQ",
        "colab_type": "code",
        "colab": {
          "base_uri": "https://localhost:8080/",
          "height": 86
        },
        "outputId": "e111783c-5a9a-47e0-93cc-45537b0e1220"
      },
      "source": [
        "#Contamos valores por estado\n",
        "ObjData['State'].value_counts()"
      ],
      "execution_count": 7,
      "outputs": [
        {
          "output_type": "execute_result",
          "data": {
            "text/plain": [
              "California    17\n",
              "New York      17\n",
              "Florida       16\n",
              "Name: State, dtype: int64"
            ]
          },
          "metadata": {
            "tags": []
          },
          "execution_count": 7
        }
      ]
    },
    {
      "cell_type": "code",
      "metadata": {
        "id": "ED-qfnNjsoho",
        "colab_type": "code",
        "colab": {
          "base_uri": "https://localhost:8080/",
          "height": 260
        },
        "outputId": "2d28bfeb-e2f1-433c-b56d-19ed4366d573"
      },
      "source": [
        "#Exploramos un poco los datos\n",
        "print(\"Información del dataset:\\n\")\n",
        "ObjData.info()"
      ],
      "execution_count": 8,
      "outputs": [
        {
          "output_type": "stream",
          "text": [
            "Información del dataset:\n",
            "\n",
            "<class 'pandas.core.frame.DataFrame'>\n",
            "RangeIndex: 50 entries, 0 to 49\n",
            "Data columns (total 5 columns):\n",
            " #   Column           Non-Null Count  Dtype  \n",
            "---  ------           --------------  -----  \n",
            " 0   R&D Spend        50 non-null     float64\n",
            " 1   Administration   50 non-null     float64\n",
            " 2   Marketing Spend  50 non-null     float64\n",
            " 3   State            50 non-null     object \n",
            " 4   Profit           50 non-null     float64\n",
            "dtypes: float64(4), object(1)\n",
            "memory usage: 2.1+ KB\n"
          ],
          "name": "stdout"
        }
      ]
    },
    {
      "cell_type": "code",
      "metadata": {
        "id": "QRVfbd26tn-o",
        "colab_type": "code",
        "colab": {
          "base_uri": "https://localhost:8080/",
          "height": 189
        },
        "outputId": "c85d16da-c470-4dda-946b-6933648db1da"
      },
      "source": [
        "#Realizamos un resumen estadistico\n",
        "print(\"Resumen estadístico:\")\n",
        "ObjData.describe().T"
      ],
      "execution_count": 9,
      "outputs": [
        {
          "output_type": "stream",
          "text": [
            "Resumen estadístico:\n"
          ],
          "name": "stdout"
        },
        {
          "output_type": "execute_result",
          "data": {
            "text/html": [
              "<div>\n",
              "<style scoped>\n",
              "    .dataframe tbody tr th:only-of-type {\n",
              "        vertical-align: middle;\n",
              "    }\n",
              "\n",
              "    .dataframe tbody tr th {\n",
              "        vertical-align: top;\n",
              "    }\n",
              "\n",
              "    .dataframe thead th {\n",
              "        text-align: right;\n",
              "    }\n",
              "</style>\n",
              "<table border=\"1\" class=\"dataframe\">\n",
              "  <thead>\n",
              "    <tr style=\"text-align: right;\">\n",
              "      <th></th>\n",
              "      <th>count</th>\n",
              "      <th>mean</th>\n",
              "      <th>std</th>\n",
              "      <th>min</th>\n",
              "      <th>25%</th>\n",
              "      <th>50%</th>\n",
              "      <th>75%</th>\n",
              "      <th>max</th>\n",
              "    </tr>\n",
              "  </thead>\n",
              "  <tbody>\n",
              "    <tr>\n",
              "      <th>R&amp;D Spend</th>\n",
              "      <td>50.0</td>\n",
              "      <td>73721.6156</td>\n",
              "      <td>45902.256482</td>\n",
              "      <td>0.00</td>\n",
              "      <td>39936.3700</td>\n",
              "      <td>73051.080</td>\n",
              "      <td>101602.8000</td>\n",
              "      <td>165349.20</td>\n",
              "    </tr>\n",
              "    <tr>\n",
              "      <th>Administration</th>\n",
              "      <td>50.0</td>\n",
              "      <td>121344.6396</td>\n",
              "      <td>28017.802755</td>\n",
              "      <td>51283.14</td>\n",
              "      <td>103730.8750</td>\n",
              "      <td>122699.795</td>\n",
              "      <td>144842.1800</td>\n",
              "      <td>182645.56</td>\n",
              "    </tr>\n",
              "    <tr>\n",
              "      <th>Marketing Spend</th>\n",
              "      <td>50.0</td>\n",
              "      <td>211025.0978</td>\n",
              "      <td>122290.310726</td>\n",
              "      <td>0.00</td>\n",
              "      <td>129300.1325</td>\n",
              "      <td>212716.240</td>\n",
              "      <td>299469.0850</td>\n",
              "      <td>471784.10</td>\n",
              "    </tr>\n",
              "    <tr>\n",
              "      <th>Profit</th>\n",
              "      <td>50.0</td>\n",
              "      <td>112012.6392</td>\n",
              "      <td>40306.180338</td>\n",
              "      <td>14681.40</td>\n",
              "      <td>90138.9025</td>\n",
              "      <td>107978.190</td>\n",
              "      <td>139765.9775</td>\n",
              "      <td>192261.83</td>\n",
              "    </tr>\n",
              "  </tbody>\n",
              "</table>\n",
              "</div>"
            ],
            "text/plain": [
              "                 count         mean  ...          75%        max\n",
              "R&D Spend         50.0   73721.6156  ...  101602.8000  165349.20\n",
              "Administration    50.0  121344.6396  ...  144842.1800  182645.56\n",
              "Marketing Spend   50.0  211025.0978  ...  299469.0850  471784.10\n",
              "Profit            50.0  112012.6392  ...  139765.9775  192261.83\n",
              "\n",
              "[4 rows x 8 columns]"
            ]
          },
          "metadata": {
            "tags": []
          },
          "execution_count": 9
        }
      ]
    },
    {
      "cell_type": "code",
      "metadata": {
        "id": "eWW5lLq92ZST",
        "colab_type": "code",
        "colab": {
          "base_uri": "https://localhost:8080/",
          "height": 202
        },
        "outputId": "3af36fa7-78c4-4a5d-b05d-633179f4a558"
      },
      "source": [
        "#Usamos profit (lucro) como variable tarjet\n",
        "ObjData.rename(columns={'Profit':'target'},inplace=True)\n",
        "ObjData.head()"
      ],
      "execution_count": 10,
      "outputs": [
        {
          "output_type": "execute_result",
          "data": {
            "text/html": [
              "<div>\n",
              "<style scoped>\n",
              "    .dataframe tbody tr th:only-of-type {\n",
              "        vertical-align: middle;\n",
              "    }\n",
              "\n",
              "    .dataframe tbody tr th {\n",
              "        vertical-align: top;\n",
              "    }\n",
              "\n",
              "    .dataframe thead th {\n",
              "        text-align: right;\n",
              "    }\n",
              "</style>\n",
              "<table border=\"1\" class=\"dataframe\">\n",
              "  <thead>\n",
              "    <tr style=\"text-align: right;\">\n",
              "      <th></th>\n",
              "      <th>R&amp;D Spend</th>\n",
              "      <th>Administration</th>\n",
              "      <th>Marketing Spend</th>\n",
              "      <th>State</th>\n",
              "      <th>target</th>\n",
              "    </tr>\n",
              "  </thead>\n",
              "  <tbody>\n",
              "    <tr>\n",
              "      <th>0</th>\n",
              "      <td>165349.20</td>\n",
              "      <td>136897.80</td>\n",
              "      <td>471784.10</td>\n",
              "      <td>New York</td>\n",
              "      <td>192261.83</td>\n",
              "    </tr>\n",
              "    <tr>\n",
              "      <th>1</th>\n",
              "      <td>162597.70</td>\n",
              "      <td>151377.59</td>\n",
              "      <td>443898.53</td>\n",
              "      <td>California</td>\n",
              "      <td>191792.06</td>\n",
              "    </tr>\n",
              "    <tr>\n",
              "      <th>2</th>\n",
              "      <td>153441.51</td>\n",
              "      <td>101145.55</td>\n",
              "      <td>407934.54</td>\n",
              "      <td>Florida</td>\n",
              "      <td>191050.39</td>\n",
              "    </tr>\n",
              "    <tr>\n",
              "      <th>3</th>\n",
              "      <td>144372.41</td>\n",
              "      <td>118671.85</td>\n",
              "      <td>383199.62</td>\n",
              "      <td>New York</td>\n",
              "      <td>182901.99</td>\n",
              "    </tr>\n",
              "    <tr>\n",
              "      <th>4</th>\n",
              "      <td>142107.34</td>\n",
              "      <td>91391.77</td>\n",
              "      <td>366168.42</td>\n",
              "      <td>Florida</td>\n",
              "      <td>166187.94</td>\n",
              "    </tr>\n",
              "  </tbody>\n",
              "</table>\n",
              "</div>"
            ],
            "text/plain": [
              "   R&D Spend  Administration  Marketing Spend       State     target\n",
              "0  165349.20       136897.80        471784.10    New York  192261.83\n",
              "1  162597.70       151377.59        443898.53  California  191792.06\n",
              "2  153441.51       101145.55        407934.54     Florida  191050.39\n",
              "3  144372.41       118671.85        383199.62    New York  182901.99\n",
              "4  142107.34        91391.77        366168.42     Florida  166187.94"
            ]
          },
          "metadata": {
            "tags": []
          },
          "execution_count": 10
        }
      ]
    },
    {
      "cell_type": "markdown",
      "metadata": {
        "id": "f9OqxrldOVCo",
        "colab_type": "text"
      },
      "source": [
        "## 3.- Visualización de los Datos (Selección de Variables Independientes $features$)\n",
        "- Dispersión par por variables\n",
        "- Gráfica de Distribución (Baja distribución \"no ayuda a la predición de $Target$\")\n",
        "- Gráfica de Matriz de Correlación (relación con la variable $Target$)"
      ]
    },
    {
      "cell_type": "code",
      "metadata": {
        "id": "kXtcQ3wLOVCo",
        "colab_type": "code",
        "colab": {
          "base_uri": "https://localhost:8080/",
          "height": 764
        },
        "outputId": "3302b3a2-bb5c-408e-973f-be73b4034fdc"
      },
      "source": [
        "#Dispersion par por variables\n",
        "sns.pairplot(ObjData)"
      ],
      "execution_count": 11,
      "outputs": [
        {
          "output_type": "execute_result",
          "data": {
            "text/plain": [
              "<seaborn.axisgrid.PairGrid at 0x7fd3a856e748>"
            ]
          },
          "metadata": {
            "tags": []
          },
          "execution_count": 11
        },
        {
          "output_type": "display_data",
          "data": {
            "image/png": "[encoded data removed]",
            "text/plain": [
              "<Figure size 720x720 with 20 Axes>"
            ]
          },
          "metadata": {
            "tags": [],
            "needs_background": "light"
          }
        }
      ]
    },
    {
      "cell_type": "code",
      "metadata": {
        "id": "_rH1Sm5EuqUc",
        "colab_type": "code",
        "colab": {
          "base_uri": "https://localhost:8080/",
          "height": 304
        },
        "outputId": "f3411f2a-501b-43f9-ab69-e04effb6e8b6"
      },
      "source": [
        "# Grafica de distribución \n",
        "print(\"Grafico de distribución\")\n",
        "ObjData1=ObjData.drop(['State'], axis='columns')\n",
        "ObjFilas = 2\n",
        "ObjColumnas = 2\n",
        "fig, ax = plt.subplots(nrows=ObjFilas, ncols=ObjColumnas, figsize=(16,4))\n",
        "columna = ObjData1.columns\n",
        "index = 0\n",
        "for i in range(ObjFilas):\n",
        "    for j in range(ObjColumnas):\n",
        "        sns.distplot(ObjData1[columna[index]], ax = ax[i][j], kde_kws={'bw':0.1})\n",
        "        index = index + 1\n",
        "plt.tight_layout()"
      ],
      "execution_count": 12,
      "outputs": [
        {
          "output_type": "stream",
          "text": [
            "Grafico de distribución\n"
          ],
          "name": "stdout"
        },
        {
          "output_type": "display_data",
          "data": {
            "image/png": "[encoded data removed]",
            "text/plain": [
              "<Figure size 1152x288 with 4 Axes>"
            ]
          },
          "metadata": {
            "tags": [],
            "needs_background": "light"
          }
        }
      ]
    },
    {
      "cell_type": "code",
      "metadata": {
        "id": "1ZfPrY0Mu7Pm",
        "colab_type": "code",
        "colab": {
          "base_uri": "https://localhost:8080/",
          "height": 172
        },
        "outputId": "14842c06-01ac-4b57-c9a7-1a66e51403b7"
      },
      "source": [
        "#Matriz de Correlación\n",
        "matrixCorrelacion =ObjData.corr()\n",
        "matrixCorrelacion"
      ],
      "execution_count": 13,
      "outputs": [
        {
          "output_type": "execute_result",
          "data": {
            "text/html": [
              "<div>\n",
              "<style scoped>\n",
              "    .dataframe tbody tr th:only-of-type {\n",
              "        vertical-align: middle;\n",
              "    }\n",
              "\n",
              "    .dataframe tbody tr th {\n",
              "        vertical-align: top;\n",
              "    }\n",
              "\n",
              "    .dataframe thead th {\n",
              "        text-align: right;\n",
              "    }\n",
              "</style>\n",
              "<table border=\"1\" class=\"dataframe\">\n",
              "  <thead>\n",
              "    <tr style=\"text-align: right;\">\n",
              "      <th></th>\n",
              "      <th>R&amp;D Spend</th>\n",
              "      <th>Administration</th>\n",
              "      <th>Marketing Spend</th>\n",
              "      <th>target</th>\n",
              "    </tr>\n",
              "  </thead>\n",
              "  <tbody>\n",
              "    <tr>\n",
              "      <th>R&amp;D Spend</th>\n",
              "      <td>1.000000</td>\n",
              "      <td>0.241955</td>\n",
              "      <td>0.724248</td>\n",
              "      <td>0.972900</td>\n",
              "    </tr>\n",
              "    <tr>\n",
              "      <th>Administration</th>\n",
              "      <td>0.241955</td>\n",
              "      <td>1.000000</td>\n",
              "      <td>-0.032154</td>\n",
              "      <td>0.200717</td>\n",
              "    </tr>\n",
              "    <tr>\n",
              "      <th>Marketing Spend</th>\n",
              "      <td>0.724248</td>\n",
              "      <td>-0.032154</td>\n",
              "      <td>1.000000</td>\n",
              "      <td>0.747766</td>\n",
              "    </tr>\n",
              "    <tr>\n",
              "      <th>target</th>\n",
              "      <td>0.972900</td>\n",
              "      <td>0.200717</td>\n",
              "      <td>0.747766</td>\n",
              "      <td>1.000000</td>\n",
              "    </tr>\n",
              "  </tbody>\n",
              "</table>\n",
              "</div>"
            ],
            "text/plain": [
              "                 R&D Spend  Administration  Marketing Spend    target\n",
              "R&D Spend         1.000000        0.241955         0.724248  0.972900\n",
              "Administration    0.241955        1.000000        -0.032154  0.200717\n",
              "Marketing Spend   0.724248       -0.032154         1.000000  0.747766\n",
              "target            0.972900        0.200717         0.747766  1.000000"
            ]
          },
          "metadata": {
            "tags": []
          },
          "execution_count": 13
        }
      ]
    },
    {
      "cell_type": "markdown",
      "metadata": {
        "id": "d-xoFHFVOVCs",
        "colab_type": "text"
      },
      "source": [
        "### Mapa de Calor para representar la correlación"
      ]
    },
    {
      "cell_type": "code",
      "metadata": {
        "id": "BCCRmf0dOVCt",
        "colab_type": "code",
        "colab": {
          "base_uri": "https://localhost:8080/",
          "height": 504
        },
        "outputId": "2e16a304-2773-438e-d47d-c0762f931625"
      },
      "source": [
        "#Realizamos el mapa de calor\n",
        "fig, ax = plt.subplots(figsize = (16,8))\n",
        "sns.heatmap(matrixCorrelacion, annot=True)"
      ],
      "execution_count": 14,
      "outputs": [
        {
          "output_type": "execute_result",
          "data": {
            "text/plain": [
              "<matplotlib.axes._subplots.AxesSubplot at 0x7fd3a56b4898>"
            ]
          },
          "metadata": {
            "tags": []
          },
          "execution_count": 14
        },
        {
          "output_type": "display_data",
          "data": {
            "image/png": "[encoded data removed]",
            "text/plain": [
              "<Figure size 1152x576 with 2 Axes>"
            ]
          },
          "metadata": {
            "tags": [],
            "needs_background": "light"
          }
        }
      ]
    },
    {
      "cell_type": "code",
      "metadata": {
        "id": "ahnyfXfIOVCz",
        "colab_type": "code",
        "colab": {
          "base_uri": "https://localhost:8080/",
          "height": 34
        },
        "outputId": "d474ca39-081c-483e-b39e-7384c5dd80f2"
      },
      "source": [
        "#Presentar el indice de la matriz de correlación\n",
        "matrixCorrelacion.index"
      ],
      "execution_count": 15,
      "outputs": [
        {
          "output_type": "execute_result",
          "data": {
            "text/plain": [
              "Index(['R&D Spend', 'Administration', 'Marketing Spend', 'target'], dtype='object')"
            ]
          },
          "metadata": {
            "tags": []
          },
          "execution_count": 15
        }
      ]
    },
    {
      "cell_type": "markdown",
      "metadata": {
        "id": "qcQAZPDxOVC7",
        "colab_type": "text"
      },
      "source": [
        "- Función para seleccionar $features$ con relación a la variable $target$. De esta forma se evita la MULTICOLLINEARITY"
      ]
    },
    {
      "cell_type": "code",
      "metadata": {
        "id": "Nc7FbTFCOVC4",
        "colab_type": "code",
        "colab": {}
      },
      "source": [
        "def relacionFeatures(correlacionData, umbral):\n",
        "    feature = []\n",
        "    valor = []\n",
        "    for i, index in enumerate(correlacionData.index):\n",
        "        if abs(correlacionData[index]) > umbral:\n",
        "            feature.append(index)\n",
        "            valor.append(correlacionData[index])    \n",
        "    df  = pd.DataFrame(data = valor, index = feature, columns=['Valor Correlación'])\n",
        "    return df"
      ],
      "execution_count": 0,
      "outputs": []
    },
    {
      "cell_type": "code",
      "metadata": {
        "id": "eB0Oaslj0fIE",
        "colab_type": "code",
        "colab": {
          "base_uri": "https://localhost:8080/",
          "height": 141
        },
        "outputId": "c95f038d-59e0-41ca-9bfd-023c159cec16"
      },
      "source": [
        "# umbral > 0.45\n",
        "umbral = 0.45\n",
        "valorCorrelacion = relacionFeatures(matrixCorrelacion['target'], umbral)\n",
        "valorCorrelacion"
      ],
      "execution_count": 17,
      "outputs": [
        {
          "output_type": "execute_result",
          "data": {
            "text/html": [
              "<div>\n",
              "<style scoped>\n",
              "    .dataframe tbody tr th:only-of-type {\n",
              "        vertical-align: middle;\n",
              "    }\n",
              "\n",
              "    .dataframe tbody tr th {\n",
              "        vertical-align: top;\n",
              "    }\n",
              "\n",
              "    .dataframe thead th {\n",
              "        text-align: right;\n",
              "    }\n",
              "</style>\n",
              "<table border=\"1\" class=\"dataframe\">\n",
              "  <thead>\n",
              "    <tr style=\"text-align: right;\">\n",
              "      <th></th>\n",
              "      <th>Valor Correlación</th>\n",
              "    </tr>\n",
              "  </thead>\n",
              "  <tbody>\n",
              "    <tr>\n",
              "      <th>R&amp;D Spend</th>\n",
              "      <td>0.972900</td>\n",
              "    </tr>\n",
              "    <tr>\n",
              "      <th>Marketing Spend</th>\n",
              "      <td>0.747766</td>\n",
              "    </tr>\n",
              "    <tr>\n",
              "      <th>target</th>\n",
              "      <td>1.000000</td>\n",
              "    </tr>\n",
              "  </tbody>\n",
              "</table>\n",
              "</div>"
            ],
            "text/plain": [
              "                 Valor Correlación\n",
              "R&D Spend                 0.972900\n",
              "Marketing Spend           0.747766\n",
              "target                    1.000000"
            ]
          },
          "metadata": {
            "tags": []
          },
          "execution_count": 17
        }
      ]
    },
    {
      "cell_type": "code",
      "metadata": {
        "id": "gYQQitYM0epP",
        "colab_type": "code",
        "colab": {
          "base_uri": "https://localhost:8080/",
          "height": 202
        },
        "outputId": "1c7a4d01-e2d7-4ab6-d4d9-56df9033d830"
      },
      "source": [
        "#Representamos los datos de correlación correctos \n",
        "dataCorrAceptada = ObjData[valorCorrelacion.index]\n",
        "dataCorrAceptada.head()"
      ],
      "execution_count": 18,
      "outputs": [
        {
          "output_type": "execute_result",
          "data": {
            "text/html": [
              "<div>\n",
              "<style scoped>\n",
              "    .dataframe tbody tr th:only-of-type {\n",
              "        vertical-align: middle;\n",
              "    }\n",
              "\n",
              "    .dataframe tbody tr th {\n",
              "        vertical-align: top;\n",
              "    }\n",
              "\n",
              "    .dataframe thead th {\n",
              "        text-align: right;\n",
              "    }\n",
              "</style>\n",
              "<table border=\"1\" class=\"dataframe\">\n",
              "  <thead>\n",
              "    <tr style=\"text-align: right;\">\n",
              "      <th></th>\n",
              "      <th>R&amp;D Spend</th>\n",
              "      <th>Marketing Spend</th>\n",
              "      <th>target</th>\n",
              "    </tr>\n",
              "  </thead>\n",
              "  <tbody>\n",
              "    <tr>\n",
              "      <th>0</th>\n",
              "      <td>165349.20</td>\n",
              "      <td>471784.10</td>\n",
              "      <td>192261.83</td>\n",
              "    </tr>\n",
              "    <tr>\n",
              "      <th>1</th>\n",
              "      <td>162597.70</td>\n",
              "      <td>443898.53</td>\n",
              "      <td>191792.06</td>\n",
              "    </tr>\n",
              "    <tr>\n",
              "      <th>2</th>\n",
              "      <td>153441.51</td>\n",
              "      <td>407934.54</td>\n",
              "      <td>191050.39</td>\n",
              "    </tr>\n",
              "    <tr>\n",
              "      <th>3</th>\n",
              "      <td>144372.41</td>\n",
              "      <td>383199.62</td>\n",
              "      <td>182901.99</td>\n",
              "    </tr>\n",
              "    <tr>\n",
              "      <th>4</th>\n",
              "      <td>142107.34</td>\n",
              "      <td>366168.42</td>\n",
              "      <td>166187.94</td>\n",
              "    </tr>\n",
              "  </tbody>\n",
              "</table>\n",
              "</div>"
            ],
            "text/plain": [
              "   R&D Spend  Marketing Spend     target\n",
              "0  165349.20        471784.10  192261.83\n",
              "1  162597.70        443898.53  191792.06\n",
              "2  153441.51        407934.54  191050.39\n",
              "3  144372.41        383199.62  182901.99\n",
              "4  142107.34        366168.42  166187.94"
            ]
          },
          "metadata": {
            "tags": []
          },
          "execution_count": 18
        }
      ]
    },
    {
      "cell_type": "markdown",
      "metadata": {
        "id": "pHOQw0CQOVC8",
        "colab_type": "text"
      },
      "source": [
        "## 4.- A continuación se ajustará el modelo de regresión lineal y predecir.\n",
        "Para estimar los coeficientes se usará el método de <a href=\"https://www.varsitytutors.com/hotmath/hotmath_help/spanish/topics/line-of-best-fit\">Mínimos Cuadrados.</a>. \n",
        "\n",
        "\n",
        "### X = dataF.drop['target'] (o variables independientes)\n",
        "### Y = dataF['target']"
      ]
    },
    {
      "cell_type": "markdown",
      "metadata": {
        "id": "E3duibQdOVC8",
        "colab_type": "text"
      },
      "source": [
        "### Las funciones importantes a tener en cuenta al ajustar un modelo de regresión lineal son:\n",
        "\n",
        "**lm.fit()**     -> Ajusta a un modelo lineal\n",
        "\n",
        "**lm.predict()** -> Predecir **$Y$** usando el modelo lineal con coeficientes estimados\n",
        "\n",
        "**lm.score()**   -> Devuelve el <a href=\"https://www.addlink.es/noticias/minitab/2736-como-interpretar-un-modelo-de-regresion-con-bajo-coeficiente-de-determinacion-r-cuadrado-y-bajos-valores-p\">coeficiente de determinación (R$^2$)</a>. \n",
        " \n",
        " - [Una medida de cuán bien se replican los resultados observados por el modelo, \n",
        "como la proporción de la variación total de los resultados explicada por el modelo.]\n",
        "    \n",
        "\n",
        "### Por hacer\n",
        "- Selección de Variables Dep e Ind.\n",
        "- División Valores en bloques de Entrenamiento y Prueba\n",
        "- Ajuste a modelo lineal\n",
        "- Selección del modelo lineal\n",
        "- Entrenamiento del modelo\n",
        "- Impresión coeficientes e intersepción.\n",
        "- Diagrama de Dispersión."
      ]
    },
    {
      "cell_type": "code",
      "metadata": {
        "id": "U4n1ZFxm6NDY",
        "colab_type": "code",
        "colab": {}
      },
      "source": [
        "#Seleccionamos las variables dependiente e independiente\n",
        "X = dataCorrAceptada.drop('target', axis = 1)\n",
        "y = dataCorrAceptada['target']"
      ],
      "execution_count": 0,
      "outputs": []
    },
    {
      "cell_type": "code",
      "metadata": {
        "id": "j-RuYcQV6d7U",
        "colab_type": "code",
        "colab": {}
      },
      "source": [
        "#Division de valores en bloques de entrenamiento y prueba\n",
        "X_train, X_test, y_train, y_test = train_test_split(X, y, test_size=0.2, random_state=0)"
      ],
      "execution_count": 0,
      "outputs": []
    },
    {
      "cell_type": "code",
      "metadata": {
        "id": "BeF17acsOVC9",
        "colab_type": "code",
        "colab": {}
      },
      "source": [
        "#Seleccionamos el modelo lineal\n",
        "modelo=LinearRegression()"
      ],
      "execution_count": 0,
      "outputs": []
    },
    {
      "cell_type": "markdown",
      "metadata": {
        "id": "iKAjtJDxOVDN",
        "colab_type": "text"
      },
      "source": [
        "## 5.-  Entrenamiento del Modelo"
      ]
    },
    {
      "cell_type": "code",
      "metadata": {
        "id": "kcLZhsLGEJVA",
        "colab_type": "code",
        "colab": {
          "base_uri": "https://localhost:8080/",
          "height": 34
        },
        "outputId": "22e1c9b9-ecf6-4dac-f564-2c48df1215ce"
      },
      "source": [
        "#Entrenamiento del modelo\n",
        "modelo.fit(X_train, y_train)"
      ],
      "execution_count": 22,
      "outputs": [
        {
          "output_type": "execute_result",
          "data": {
            "text/plain": [
              "LinearRegression(copy_X=True, fit_intercept=True, n_jobs=None, normalize=False)"
            ]
          },
          "metadata": {
            "tags": []
          },
          "execution_count": 22
        }
      ]
    },
    {
      "cell_type": "code",
      "metadata": {
        "id": "LQMeAdfRLgd5",
        "colab_type": "code",
        "colab": {}
      },
      "source": [
        "y_predict = modelo.predict(X_test)"
      ],
      "execution_count": 0,
      "outputs": []
    },
    {
      "cell_type": "code",
      "metadata": {
        "id": "yDtYEiljOVDH",
        "colab_type": "code",
        "colab": {
          "base_uri": "https://localhost:8080/",
          "height": 69
        },
        "outputId": "6f03d503-fdc0-4352-ab44-7948d161816e"
      },
      "source": [
        "# Impresión de intercepción, coeficientes y numero de coeficientes\n",
        "print('Coeficiente: ',modelo.coef_)\n",
        "print('Tamaño coeficiente: ',len(modelo.coef_))\n",
        "print('Intercepción: ',modelo.intercept_)"
      ],
      "execution_count": 24,
      "outputs": [
        {
          "output_type": "stream",
          "text": [
            "Coeficiente:  [0.7886183  0.03257663]\n",
            "Tamaño coeficiente:  2\n",
            "Intercepción:  46346.338761236555\n"
          ],
          "name": "stdout"
        }
      ]
    },
    {
      "cell_type": "code",
      "metadata": {
        "id": "FcFcAcZrLLAh",
        "colab_type": "code",
        "colab": {
          "base_uri": "https://localhost:8080/",
          "height": 356
        },
        "outputId": "ed47dd62-a018-419e-d927-07cf545881be"
      },
      "source": [
        "d = {'Predicted': y_predict, 'target': y_test}\n",
        "df = pd.DataFrame(data=d)\n",
        "decimals = 1\n",
        "df['Predicted'] = df['Predicted'].apply(lambda x: round(x, decimals))\n",
        "df.head(10)"
      ],
      "execution_count": 25,
      "outputs": [
        {
          "output_type": "execute_result",
          "data": {
            "text/html": [
              "<div>\n",
              "<style scoped>\n",
              "    .dataframe tbody tr th:only-of-type {\n",
              "        vertical-align: middle;\n",
              "    }\n",
              "\n",
              "    .dataframe tbody tr th {\n",
              "        vertical-align: top;\n",
              "    }\n",
              "\n",
              "    .dataframe thead th {\n",
              "        text-align: right;\n",
              "    }\n",
              "</style>\n",
              "<table border=\"1\" class=\"dataframe\">\n",
              "  <thead>\n",
              "    <tr style=\"text-align: right;\">\n",
              "      <th></th>\n",
              "      <th>Predicted</th>\n",
              "      <th>target</th>\n",
              "    </tr>\n",
              "  </thead>\n",
              "  <tbody>\n",
              "    <tr>\n",
              "      <th>28</th>\n",
              "      <td>102284.6</td>\n",
              "      <td>103282.38</td>\n",
              "    </tr>\n",
              "    <tr>\n",
              "      <th>11</th>\n",
              "      <td>133873.9</td>\n",
              "      <td>144259.40</td>\n",
              "    </tr>\n",
              "    <tr>\n",
              "      <th>10</th>\n",
              "      <td>134182.1</td>\n",
              "      <td>146121.95</td>\n",
              "    </tr>\n",
              "    <tr>\n",
              "      <th>41</th>\n",
              "      <td>73701.1</td>\n",
              "      <td>77798.83</td>\n",
              "    </tr>\n",
              "    <tr>\n",
              "      <th>2</th>\n",
              "      <td>180642.3</td>\n",
              "      <td>191050.39</td>\n",
              "    </tr>\n",
              "    <tr>\n",
              "      <th>27</th>\n",
              "      <td>114717.2</td>\n",
              "      <td>105008.31</td>\n",
              "    </tr>\n",
              "    <tr>\n",
              "      <th>38</th>\n",
              "      <td>68335.1</td>\n",
              "      <td>81229.06</td>\n",
              "    </tr>\n",
              "    <tr>\n",
              "      <th>31</th>\n",
              "      <td>97433.5</td>\n",
              "      <td>97483.56</td>\n",
              "    </tr>\n",
              "    <tr>\n",
              "      <th>22</th>\n",
              "      <td>114580.9</td>\n",
              "      <td>110352.25</td>\n",
              "    </tr>\n",
              "    <tr>\n",
              "      <th>4</th>\n",
              "      <td>170343.3</td>\n",
              "      <td>166187.94</td>\n",
              "    </tr>\n",
              "  </tbody>\n",
              "</table>\n",
              "</div>"
            ],
            "text/plain": [
              "    Predicted     target\n",
              "28   102284.6  103282.38\n",
              "11   133873.9  144259.40\n",
              "10   134182.1  146121.95\n",
              "41    73701.1   77798.83\n",
              "2    180642.3  191050.39\n",
              "27   114717.2  105008.31\n",
              "38    68335.1   81229.06\n",
              "31    97433.5   97483.56\n",
              "22   114580.9  110352.25\n",
              "4    170343.3  166187.94"
            ]
          },
          "metadata": {
            "tags": []
          },
          "execution_count": 25
        }
      ]
    },
    {
      "cell_type": "markdown",
      "metadata": {
        "id": "U-ddTpirOVDa",
        "colab_type": "text"
      },
      "source": [
        "## 6.- Métricas y Evaluación del Modelo\n",
        "\n",
        "Se calcula \n",
        "   - mse  (<a href=\"https://support.numxl.com/hc/es/articles/115001223423-MSE-Error-Cuadrático-Medio\">Error Cuadrático Medio </a>).             \n",
        "   - mae  (<a href=\"https://support.numxl.com/hc/es/articles/215969423-MAE-Error-medio-absoluto\">Error Medio Absoluto</a>). \n",
        "   - score (<a href=\"https://scikit-learn.org/stable/modules/generated/sklearn.metrics.r2_score.html\"/> r2_score</a>).\n",
        "\n",
        "\n",
        "- mae : Fácil de entender, dado que es el error promedio.\n",
        "- mse : Es más popular que $mae$, dado que $mse$ castiga grandes errores, útil en el mundo real.\n",
        "- score: <a href=\"https://scikit-learn.org/stable/modules/generated/sklearn.metrics.r2_score.html\">r2_score</a> Es incluso más popular que $mse$, dado que $rmse$ es interpretable en las unidades $\"y\"$\n",
        "   - Esta no es una función simétrica. A diferencia de la mayoría de las otras puntuaciones, \n",
        "   la puntuación R^2 puede ser negativa (no tiene por qué ser el cuadrado de una cantidad R).\n",
        "   - Esta métrica no está bien definida para muestras individuales y devolverá un valor de NaN \n",
        "     si n_muestras es menor que dos. "
      ]
    },
    {
      "cell_type": "code",
      "metadata": {
        "id": "tsvCVYv_OVDb",
        "colab_type": "code",
        "colab": {
          "base_uri": "https://localhost:8080/",
          "height": 69
        },
        "outputId": "81f32d3e-e3ee-45e2-a232-62e25bc8ddd0"
      },
      "source": [
        "score = r2_score(y_test, y_predict)\n",
        "mae = mean_absolute_error(y_test, y_predict)\n",
        "mse = mean_squared_error(y_test, y_predict)\n",
        "print('r2_score: ', score)\n",
        "print('MAE: ', mae)\n",
        "print('MSE: ', mse)"
      ],
      "execution_count": 26,
      "outputs": [
        {
          "output_type": "stream",
          "text": [
            "r2_score:  0.9474386447268488\n",
            "MAE:  6886.594588246514\n",
            "MSE:  67220275.3756812\n"
          ],
          "name": "stdout"
        }
      ]
    },
    {
      "cell_type": "code",
      "metadata": {
        "id": "nERGMR0LM4lF",
        "colab_type": "code",
        "colab": {}
      },
      "source": [
        "#Función para almacenar las métricas de rendimiento\n",
        "total_features = []\n",
        "valor_correlacion = []\n",
        "r2_valores = []\n",
        "mse_valores = []\n",
        "mae_valores = []"
      ],
      "execution_count": 0,
      "outputs": []
    },
    {
      "cell_type": "code",
      "metadata": {
        "id": "Wwkub4ehM4Vb",
        "colab_type": "code",
        "colab": {}
      },
      "source": [
        "def metricas_evaluacion(features, umb, y_true, y_pred):\n",
        "    puntuacion = r2_score(y_true, y_pred)\n",
        "    mae = mean_absolute_error(y_true, y_pred)\n",
        "    mse = mean_squared_error(y_true, y_pred)\n",
        "    total_features.append(len(features.columns)-1)\n",
        "    valor_correlacion.append(umb)\n",
        "    r2_valores.append(puntuacion)\n",
        "    mse_valores.append(mse)\n",
        "    mae_valores.append(mae)\n",
        "    dfMetricas = pd.DataFrame(data=[total_features,valor_correlacion,r2_valores,mse_valores,mae_valores],\n",
        "                             index=['#features','Umbral','R2','MSE','MAE'])\n",
        "    return dfMetricas.T"
      ],
      "execution_count": 0,
      "outputs": []
    },
    {
      "cell_type": "code",
      "metadata": {
        "id": "FhaPbbCQNNwJ",
        "colab_type": "code",
        "colab": {
          "base_uri": "https://localhost:8080/",
          "height": 80
        },
        "outputId": "549d6b40-da08-43bb-a910-19c687d8f68c"
      },
      "source": [
        "#Evaluación del modelo según metricas\n",
        "metricas_evaluacion(dataCorrAceptada,umbral, y_test, y_predict)"
      ],
      "execution_count": 29,
      "outputs": [
        {
          "output_type": "execute_result",
          "data": {
            "text/html": [
              "<div>\n",
              "<style scoped>\n",
              "    .dataframe tbody tr th:only-of-type {\n",
              "        vertical-align: middle;\n",
              "    }\n",
              "\n",
              "    .dataframe tbody tr th {\n",
              "        vertical-align: top;\n",
              "    }\n",
              "\n",
              "    .dataframe thead th {\n",
              "        text-align: right;\n",
              "    }\n",
              "</style>\n",
              "<table border=\"1\" class=\"dataframe\">\n",
              "  <thead>\n",
              "    <tr style=\"text-align: right;\">\n",
              "      <th></th>\n",
              "      <th>#features</th>\n",
              "      <th>Umbral</th>\n",
              "      <th>R2</th>\n",
              "      <th>MSE</th>\n",
              "      <th>MAE</th>\n",
              "    </tr>\n",
              "  </thead>\n",
              "  <tbody>\n",
              "    <tr>\n",
              "      <th>0</th>\n",
              "      <td>2.0</td>\n",
              "      <td>0.45</td>\n",
              "      <td>0.947439</td>\n",
              "      <td>6.722028e+07</td>\n",
              "      <td>6886.594588</td>\n",
              "    </tr>\n",
              "  </tbody>\n",
              "</table>\n",
              "</div>"
            ],
            "text/plain": [
              "   #features  Umbral        R2           MSE          MAE\n",
              "0        2.0    0.45  0.947439  6.722028e+07  6886.594588"
            ]
          },
          "metadata": {
            "tags": []
          },
          "execution_count": 29
        }
      ]
    },
    {
      "cell_type": "markdown",
      "metadata": {
        "id": "Dtqj0ibzOVDe",
        "colab_type": "text"
      },
      "source": [
        "## 7.- Pruebas con diferentes umbrales de correlación. \n",
        "    Se busca la mejor combinación por umbral de coeficientes"
      ]
    },
    {
      "cell_type": "code",
      "metadata": {
        "id": "TntqvvNNPsFt",
        "colab_type": "code",
        "colab": {}
      },
      "source": [
        "#Entrenamiento automatico dado el \"dataCorrAceptada\" por su umbral\n",
        "def obtener_y_predict(data_Correlacionado):\n",
        "    X = dataCorrAceptada.drop('target', axis = 1)\n",
        "    y = dataCorrAceptada['target']\n",
        "    X_train, X_test, y_train, y_test = train_test_split(X, y, test_size=0.2, random_state=0)\n",
        "    modelo = LinearRegression()\n",
        "    modelo.fit(X_train, y_train)\n",
        "    y_predict = modelo.predict(X_test)  \n",
        "    return y_predict"
      ],
      "execution_count": 0,
      "outputs": []
    },
    {
      "cell_type": "code",
      "metadata": {
        "id": "zpXBestcN-DJ",
        "colab_type": "code",
        "colab": {
          "base_uri": "https://localhost:8080/",
          "height": 294
        },
        "outputId": "c4d7b118-2860-4e57-d013-17e99e16c6a1"
      },
      "source": [
        "#Probamos el score con un umbral de >0.5\n",
        "umbral = 0.5\n",
        "valorCorrelacion = relacionFeatures(matrixCorrelacion['target'], umbral)\n",
        "print(valorCorrelacion,\"\\n\")\n",
        "dataCorrAceptada = ObjData[valorCorrelacion.index]\n",
        "print(dataCorrAceptada.tail(),\"\\n\")\n",
        "y_predict = obtener_y_predict(dataCorrAceptada)\n",
        "print(metricas_evaluacion(dataCorrAceptada,umbral, y_test, y_predict),\"\\n\")"
      ],
      "execution_count": 31,
      "outputs": [
        {
          "output_type": "stream",
          "text": [
            "                 Valor Correlación\n",
            "R&D Spend                 0.972900\n",
            "Marketing Spend           0.747766\n",
            "target                    1.000000 \n",
            "\n",
            "    R&D Spend  Marketing Spend    target\n",
            "45    1000.23          1903.93  64926.08\n",
            "46    1315.46        297114.46  49490.75\n",
            "47       0.00             0.00  42559.73\n",
            "48     542.05             0.00  35673.41\n",
            "49       0.00         45173.06  14681.40 \n",
            "\n",
            "   #features  Umbral        R2           MSE          MAE\n",
            "0        2.0    0.45  0.947439  6.722028e+07  6886.594588\n",
            "1        2.0    0.50  0.947439  6.722028e+07  6886.594588 \n",
            "\n"
          ],
          "name": "stdout"
        }
      ]
    },
    {
      "cell_type": "code",
      "metadata": {
        "id": "XM8-b0IFOVDf",
        "colab_type": "code",
        "colab": {
          "base_uri": "https://localhost:8080/",
          "height": 312
        },
        "outputId": "03e3fbd5-7c41-4202-de54-d5b4b0de8c40"
      },
      "source": [
        "#Probamos el score con un umbral de >0.6\n",
        "umbral = 0.6\n",
        "valorCorrelacion = relacionFeatures(matrixCorrelacion['target'], umbral)\n",
        "print(valorCorrelacion,\"\\n\")\n",
        "dataCorrAceptada = ObjData[valorCorrelacion.index]\n",
        "print(dataCorrAceptada.tail(),\"\\n\")\n",
        "y_predict = obtener_y_predict(dataCorrAceptada)\n",
        "print(metricas_evaluacion(dataCorrAceptada,umbral, y_test, y_predict),\"\\n\")"
      ],
      "execution_count": 32,
      "outputs": [
        {
          "output_type": "stream",
          "text": [
            "                 Valor Correlación\n",
            "R&D Spend                 0.972900\n",
            "Marketing Spend           0.747766\n",
            "target                    1.000000 \n",
            "\n",
            "    R&D Spend  Marketing Spend    target\n",
            "45    1000.23          1903.93  64926.08\n",
            "46    1315.46        297114.46  49490.75\n",
            "47       0.00             0.00  42559.73\n",
            "48     542.05             0.00  35673.41\n",
            "49       0.00         45173.06  14681.40 \n",
            "\n",
            "   #features  Umbral        R2           MSE          MAE\n",
            "0        2.0    0.45  0.947439  6.722028e+07  6886.594588\n",
            "1        2.0    0.50  0.947439  6.722028e+07  6886.594588\n",
            "2        2.0    0.60  0.947439  6.722028e+07  6886.594588 \n",
            "\n"
          ],
          "name": "stdout"
        }
      ]
    },
    {
      "cell_type": "code",
      "metadata": {
        "id": "jIkjTzb3OP1-",
        "colab_type": "code",
        "colab": {
          "base_uri": "https://localhost:8080/",
          "height": 329
        },
        "outputId": "4baf3f8b-670c-429b-e0a3-d68d079c06a8"
      },
      "source": [
        "#Probamos el score con un umbral de >0.7\n",
        "umbral = 0.7\n",
        "valorCorrelacion = relacionFeatures(matrixCorrelacion['target'], umbral)\n",
        "print(valorCorrelacion,\"\\n\")\n",
        "dataCorrAceptada = ObjData[valorCorrelacion.index]\n",
        "print(dataCorrAceptada.tail(),\"\\n\")\n",
        "y_predict = obtener_y_predict(dataCorrAceptada)\n",
        "print(metricas_evaluacion(dataCorrAceptada,umbral, y_test, y_predict),\"\\n\")"
      ],
      "execution_count": 33,
      "outputs": [
        {
          "output_type": "stream",
          "text": [
            "                 Valor Correlación\n",
            "R&D Spend                 0.972900\n",
            "Marketing Spend           0.747766\n",
            "target                    1.000000 \n",
            "\n",
            "    R&D Spend  Marketing Spend    target\n",
            "45    1000.23          1903.93  64926.08\n",
            "46    1315.46        297114.46  49490.75\n",
            "47       0.00             0.00  42559.73\n",
            "48     542.05             0.00  35673.41\n",
            "49       0.00         45173.06  14681.40 \n",
            "\n",
            "   #features  Umbral        R2           MSE          MAE\n",
            "0        2.0    0.45  0.947439  6.722028e+07  6886.594588\n",
            "1        2.0    0.50  0.947439  6.722028e+07  6886.594588\n",
            "2        2.0    0.60  0.947439  6.722028e+07  6886.594588\n",
            "3        2.0    0.70  0.947439  6.722028e+07  6886.594588 \n",
            "\n"
          ],
          "name": "stdout"
        }
      ]
    },
    {
      "cell_type": "code",
      "metadata": {
        "id": "Q1EVtwipOQkK",
        "colab_type": "code",
        "colab": {
          "base_uri": "https://localhost:8080/",
          "height": 329
        },
        "outputId": "0361fd47-a405-4299-d8db-114ea5996d99"
      },
      "source": [
        "#Probamos el score con un umbral de >0.8\n",
        "umbral = 0.8\n",
        "valorCorrelacion = relacionFeatures(matrixCorrelacion['target'], umbral)\n",
        "print(valorCorrelacion,\"\\n\")\n",
        "dataCorrAceptada = ObjData[valorCorrelacion.index]\n",
        "print(dataCorrAceptada.tail(),\"\\n\")\n",
        "y_predict = obtener_y_predict(dataCorrAceptada)\n",
        "print(metricas_evaluacion(dataCorrAceptada,umbral, y_test, y_predict),\"\\n\")"
      ],
      "execution_count": 34,
      "outputs": [
        {
          "output_type": "stream",
          "text": [
            "           Valor Correlación\n",
            "R&D Spend             0.9729\n",
            "target                1.0000 \n",
            "\n",
            "    R&D Spend    target\n",
            "45    1000.23  64926.08\n",
            "46    1315.46  49490.75\n",
            "47       0.00  42559.73\n",
            "48     542.05  35673.41\n",
            "49       0.00  14681.40 \n",
            "\n",
            "   #features  Umbral        R2           MSE          MAE\n",
            "0        2.0    0.45  0.947439  6.722028e+07  6886.594588\n",
            "1        2.0    0.50  0.947439  6.722028e+07  6886.594588\n",
            "2        2.0    0.60  0.947439  6.722028e+07  6886.594588\n",
            "3        2.0    0.70  0.947439  6.722028e+07  6886.594588\n",
            "4        1.0    0.80  0.946459  6.847344e+07  6772.453280 \n",
            "\n"
          ],
          "name": "stdout"
        }
      ]
    },
    {
      "cell_type": "code",
      "metadata": {
        "id": "oArTQiPKOTBp",
        "colab_type": "code",
        "colab": {
          "base_uri": "https://localhost:8080/",
          "height": 346
        },
        "outputId": "20930611-69f0-4dcd-f034-faa067572207"
      },
      "source": [
        "#Probamos el score con un umbral de >0.9\n",
        "umbral = 0.9\n",
        "valorCorrelacion = relacionFeatures(matrixCorrelacion['target'], umbral)\n",
        "print(valorCorrelacion,\"\\n\")\n",
        "dataCorrAceptada = ObjData[valorCorrelacion.index]\n",
        "print(dataCorrAceptada.tail(),\"\\n\")\n",
        "y_predict = obtener_y_predict(dataCorrAceptada)\n",
        "print(metricas_evaluacion(dataCorrAceptada,umbral, y_test, y_predict),\"\\n\")"
      ],
      "execution_count": 35,
      "outputs": [
        {
          "output_type": "stream",
          "text": [
            "           Valor Correlación\n",
            "R&D Spend             0.9729\n",
            "target                1.0000 \n",
            "\n",
            "    R&D Spend    target\n",
            "45    1000.23  64926.08\n",
            "46    1315.46  49490.75\n",
            "47       0.00  42559.73\n",
            "48     542.05  35673.41\n",
            "49       0.00  14681.40 \n",
            "\n",
            "   #features  Umbral        R2           MSE          MAE\n",
            "0        2.0    0.45  0.947439  6.722028e+07  6886.594588\n",
            "1        2.0    0.50  0.947439  6.722028e+07  6886.594588\n",
            "2        2.0    0.60  0.947439  6.722028e+07  6886.594588\n",
            "3        2.0    0.70  0.947439  6.722028e+07  6886.594588\n",
            "4        1.0    0.80  0.946459  6.847344e+07  6772.453280\n",
            "5        1.0    0.90  0.946459  6.847344e+07  6772.453280 \n",
            "\n"
          ],
          "name": "stdout"
        }
      ]
    }
  ]
}