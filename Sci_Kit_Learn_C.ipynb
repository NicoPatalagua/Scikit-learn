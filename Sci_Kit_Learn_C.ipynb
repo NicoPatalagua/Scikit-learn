{
  "nbformat": 4,
  "nbformat_minor": 0,
  "metadata": {
    "colab": {
      "name": "Sci-Kit Learn_C.ipynb",
      "provenance": [],
      "toc_visible": true,
      "include_colab_link": true
    },
    "kernelspec": {
      "display_name": "Python 3",
      "language": "python",
      "name": "python3"
    },
    "language_info": {
      "codemirror_mode": {
        "name": "ipython",
        "version": 3
      },
      "file_extension": ".py",
      "mimetype": "text/x-python",
      "name": "python",
      "nbconvert_exporter": "python",
      "pygments_lexer": "ipython3",
      "version": "3.8.2"
    }
  },
  "cells": [
    {
      "cell_type": "markdown",
      "metadata": {
        "id": "view-in-github",
        "colab_type": "text"
      },
      "source": [
        "<a href=\"https://colab.research.google.com/github/NicoPatalagua/Scikit-learn/blob/master/Sci_Kit_Learn_C.ipynb\" target=\"_parent\"><img src=\"https://colab.research.google.com/assets/colab-badge.svg\" alt=\"Open In Colab\"/></a>"
      ]
    },
    {
      "cell_type": "markdown",
      "metadata": {
        "id": "tSsT1fVeK1Mu",
        "colab_type": "text"
      },
      "source": [
        "# Sci-KitLearn\n",
        "## Nicolás Patalagua"
      ]
    },
    {
      "cell_type": "markdown",
      "metadata": {
        "colab_type": "text",
        "id": "UiUMjNU6IBY_"
      },
      "source": [
        "# Ejemplo C: Regresión Lineal\n",
        "\n",
        "$Sci-Kit Learn$ es un poderoso módulo de Python para el aprendizaje de máquina. \n",
        "Contiene funciones de regresión, clasificación, agrupación, selección de modelos y reducción de la dimensionalidad. \n",
        "\n",
        "El ejemplo se utilizará el módulo <a href=\"https://scikit-learn.org/stable/modules/generated/sklearn.linear_model.LinearRegression.html\">sklearn.linear_model</a> que contiene \n",
        "\"métodos destinados a la regresión en los que se espera que el $Target$ Value \n",
        "sea una combinación lineal de las variables de entrada $features$\"."
      ]
    },
    {
      "cell_type": "markdown",
      "metadata": {
        "colab_type": "text",
        "id": "o-MSHF_4IBZA"
      },
      "source": [
        "## 1.- Se cargan las bibliotecas con sus módulos correspondientes"
      ]
    },
    {
      "cell_type": "code",
      "metadata": {
        "colab_type": "code",
        "id": "aWSsGY5OIBZB",
        "colab": {}
      },
      "source": [
        "import numpy as np #Soporte para vectores y matrices\n",
        "import pandas as pd #Manipulación y análisis de datos \n",
        "import scipy.stats as stats #Aplicaciones estadistica \n",
        "import matplotlib.pyplot as plt #Gráficas a partir de datos \n",
        "from sklearn.linear_model import LinearRegression #Modelo de regresión lineal\n",
        "#incorporar las gráficas en este documento\n",
        "%matplotlib inline "
      ],
      "execution_count": 0,
      "outputs": []
    },
    {
      "cell_type": "markdown",
      "metadata": {
        "colab_type": "text",
        "id": "nr42B_j2IBZL"
      },
      "source": [
        "## 2.- Exporación y preparación del conjunto de datos "
      ]
    },
    {
      "cell_type": "code",
      "metadata": {
        "colab_type": "code",
        "id": "qO7QrEk4IBZM",
        "outputId": "a86f417e-f0db-465d-9ae1-2440576cc4dd",
        "colab": {
          "base_uri": "https://localhost:8080/",
          "height": 198
        }
      },
      "source": [
        "#Lectura del csv\n",
        "dataF = pd.read_csv('Advertising.csv')\n",
        "#Cabecera del dataset\n",
        "dataF.head()"
      ],
      "execution_count": 0,
      "outputs": [
        {
          "output_type": "execute_result",
          "data": {
            "text/html": [
              "<div>\n",
              "<style scoped>\n",
              "    .dataframe tbody tr th:only-of-type {\n",
              "        vertical-align: middle;\n",
              "    }\n",
              "\n",
              "    .dataframe tbody tr th {\n",
              "        vertical-align: top;\n",
              "    }\n",
              "\n",
              "    .dataframe thead th {\n",
              "        text-align: right;\n",
              "    }\n",
              "</style>\n",
              "<table border=\"1\" class=\"dataframe\">\n",
              "  <thead>\n",
              "    <tr style=\"text-align: right;\">\n",
              "      <th></th>\n",
              "      <th>Unnamed: 0</th>\n",
              "      <th>TV</th>\n",
              "      <th>radio</th>\n",
              "      <th>newspaper</th>\n",
              "      <th>sales</th>\n",
              "    </tr>\n",
              "  </thead>\n",
              "  <tbody>\n",
              "    <tr>\n",
              "      <th>0</th>\n",
              "      <td>1</td>\n",
              "      <td>230.1</td>\n",
              "      <td>37.8</td>\n",
              "      <td>69.2</td>\n",
              "      <td>22.1</td>\n",
              "    </tr>\n",
              "    <tr>\n",
              "      <th>1</th>\n",
              "      <td>2</td>\n",
              "      <td>44.5</td>\n",
              "      <td>39.3</td>\n",
              "      <td>45.1</td>\n",
              "      <td>10.4</td>\n",
              "    </tr>\n",
              "    <tr>\n",
              "      <th>2</th>\n",
              "      <td>3</td>\n",
              "      <td>17.2</td>\n",
              "      <td>45.9</td>\n",
              "      <td>69.3</td>\n",
              "      <td>9.3</td>\n",
              "    </tr>\n",
              "    <tr>\n",
              "      <th>3</th>\n",
              "      <td>4</td>\n",
              "      <td>151.5</td>\n",
              "      <td>41.3</td>\n",
              "      <td>58.5</td>\n",
              "      <td>18.5</td>\n",
              "    </tr>\n",
              "    <tr>\n",
              "      <th>4</th>\n",
              "      <td>5</td>\n",
              "      <td>180.8</td>\n",
              "      <td>10.8</td>\n",
              "      <td>58.4</td>\n",
              "      <td>12.9</td>\n",
              "    </tr>\n",
              "  </tbody>\n",
              "</table>\n",
              "</div>"
            ],
            "text/plain": [
              "   Unnamed: 0     TV  radio  newspaper  sales\n",
              "0           1  230.1   37.8       69.2   22.1\n",
              "1           2   44.5   39.3       45.1   10.4\n",
              "2           3   17.2   45.9       69.3    9.3\n",
              "3           4  151.5   41.3       58.5   18.5\n",
              "4           5  180.8   10.8       58.4   12.9"
            ]
          },
          "metadata": {
            "tags": []
          },
          "execution_count": 2
        }
      ]
    },
    {
      "cell_type": "markdown",
      "metadata": {
        "colab_type": "text",
        "id": "MrDEdbFgIBZW"
      },
      "source": [
        "## 3.- A continuación se ajustará el modelo de regresión lineal y predecir \n",
        "Para estimar los coeficientes se usará el método de <a href=\"https://www.varsitytutors.com/hotmath/hotmath_help/spanish/topics/line-of-best-fit\">Mínimos Cuadrados.</a>. \n",
        "\n",
        "### X = dataF[\"TV\"] (o variables independientes)\n",
        "### Y = dataF[\"sales\"]\n"
      ]
    },
    {
      "cell_type": "markdown",
      "metadata": {
        "colab_type": "text",
        "id": "dDxYIK61IBZY"
      },
      "source": [
        "### Las funciones importantes a tener en cuenta al ajustar un modelo de regresión lineal son:\n",
        "\n",
        "**lm.fit()**     -> Ajusta a un modelo lineal\n",
        "\n",
        "**lm.predict()** -> Predecir **$Y$** usando el modelo lineal con coeficientes estimados\n",
        "\n",
        "**lm.score()**   -> Devuelve el <a href=\"https://www.addlink.es/noticias/minitab/2736-como-interpretar-un-modelo-de-regresion-con-bajo-coeficiente-de-determinacion-r-cuadrado-y-bajos-valores-p\">coeficiente de determinación (R$^2$)</a>. \n",
        " \n",
        " - [Una medida de cuán bien se replican los resultados observados por el modelo, \n",
        "como la proporción de la variación total de los resultados explicada por el modelo.]\n",
        "    \n",
        "\n",
        "### Por hacer\n",
        "- Diagrama de dispersión (X;Y).\n",
        "- Ajuste a modelo lineal\n",
        "- Selección del modelo lineal\n",
        "- Entrenamiento del modelo\n",
        "- Impresión coeficientes e intersepción.\n",
        "- Diagrama de Dispersión."
      ]
    },
    {
      "cell_type": "code",
      "metadata": {
        "colab_type": "code",
        "id": "xTKmCaBgIBZb",
        "outputId": "5de56df3-3363-45c0-bc6d-8026a0b5d319",
        "colab": {
          "base_uri": "https://localhost:8080/",
          "height": 298
        }
      },
      "source": [
        "#Graficamos el diagrama de dispersión\n",
        "plt.figure(figsize=(12, 4))\n",
        "plt.scatter(\n",
        "    dataF['TV'],\n",
        "    dataF['sales'],\n",
        "    c='c'\n",
        ")\n",
        "plt.title(\"Gráfico Dispersión Tv vs Sales\", fontsize=16, fontweight='bold')\n",
        "plt.xlabel(\"TV\")\n",
        "plt.ylabel(\"Sales\")\n",
        "plt.show()"
      ],
      "execution_count": 0,
      "outputs": [
        {
          "output_type": "display_data",
          "data": {
            "image/png": "[encoded data removed]",
            "text/plain": [
              "<Figure size 864x288 with 1 Axes>"
            ]
          },
          "metadata": {
            "tags": [],
            "needs_background": "light"
          }
        }
      ]
    },
    {
      "cell_type": "code",
      "metadata": {
        "colab_type": "code",
        "id": "2f_6-nRlIBZn",
        "colab": {}
      },
      "source": [
        "#Asignamos valores a las variables x y y\n",
        "X = dataF[\"TV\"].values.reshape(-1,1)\n",
        "y = dataF[\"sales\"].values.reshape(-1,1)"
      ],
      "execution_count": 0,
      "outputs": []
    },
    {
      "cell_type": "code",
      "metadata": {
        "colab_type": "code",
        "id": "ITazQ4umIBZw",
        "colab": {}
      },
      "source": [
        "# Selección a modelo lineal\n",
        "modelo = LinearRegression()"
      ],
      "execution_count": 0,
      "outputs": []
    },
    {
      "cell_type": "code",
      "metadata": {
        "colab_type": "code",
        "id": "x8tNdCLCIBZ_",
        "colab": {}
      },
      "source": [
        "# Entrenar el model0\n",
        "modelo.fit(X, y)\n",
        "y_predicted = modelo.predict(X)"
      ],
      "execution_count": 0,
      "outputs": []
    },
    {
      "cell_type": "code",
      "metadata": {
        "colab_type": "code",
        "id": "y3X6mVlFIBaI",
        "outputId": "b1671ab5-082d-4e2f-cbd9-ee2de97f792e",
        "colab": {
          "base_uri": "https://localhost:8080/",
          "height": 35
        }
      },
      "source": [
        "# Impresión de intercepción, coeficientes y numero de coeficientes\n",
        "t0, t1 = modelo.intercept_[0], modelo.coef_[0][0]\n",
        "print('Intercepción: ',t0,'\\n Coeficientes: ',t1)"
      ],
      "execution_count": 0,
      "outputs": [
        {
          "output_type": "stream",
          "text": [
            "Intercepción:  7.032593549127687 \n",
            " Coeficientes:  0.047536640433019806\n"
          ],
          "name": "stdout"
        }
      ]
    },
    {
      "cell_type": "code",
      "metadata": {
        "colab_type": "code",
        "id": "IzQz3FAgIBaP",
        "outputId": "0d08b2f1-259d-4446-da8c-013095da183f",
        "colab": {
          "base_uri": "https://localhost:8080/",
          "height": 72
        }
      },
      "source": [
        "print('Coeficiente: ',modelo.coef_)\n",
        "print('Tamaño coeficiente: ',len(modelo.coef_))\n",
        "print('Intercepción: ',modelo.intercept_)"
      ],
      "execution_count": 0,
      "outputs": [
        {
          "output_type": "stream",
          "text": [
            "Coeficiente:  [[0.04753664]]\n",
            "Tamaño coeficiente:  1\n",
            "Intercepción:  [7.03259355]\n"
          ],
          "name": "stdout"
        }
      ]
    },
    {
      "cell_type": "markdown",
      "metadata": {
        "colab_type": "text",
        "id": "1GY9H4qYIBac"
      },
      "source": [
        "## 4.-  Predicción \n",
        "\n",
        "- Se calcula la predicción $\\hat{Y}_i$ (.predict)\n",
        "- Diagrama de dispersión "
      ]
    },
    {
      "cell_type": "code",
      "metadata": {
        "colab_type": "code",
        "id": "Rp-UYJJ9IBad",
        "outputId": "6aa2f470-0600-4135-b0be-817d4ed8cf37",
        "colab": {
          "base_uri": "https://localhost:8080/",
          "height": 35
        }
      },
      "source": [
        "# Make a prediction\n",
        "X_new = [[3000]]  \n",
        "print(modelo.predict(X_new))"
      ],
      "execution_count": 0,
      "outputs": [
        {
          "output_type": "stream",
          "text": [
            "[[149.64251485]]\n"
          ],
          "name": "stdout"
        }
      ]
    },
    {
      "cell_type": "markdown",
      "metadata": {
        "colab_type": "text",
        "id": "2Sy_owMZIBah"
      },
      "source": [
        "## 5.- Se calcula el <a href=https://acolita.com/que-es-el-error-cuadratico-medio-rmse/>Error Cuadrático Medio y la presición del modelo</a>.\n",
        "\n",
        "El Root Mean Square Error (RMSE) es la desviación estándar de los residuos (errores de predicción). Los residuos son una medida de cuán lejos de la línea de regresión están los puntos de datos; RMSE es una medida de cuán extendidos están estos residuos. En otras palabras, presenta cuán concentrados están los datos alrededor de la línea de mejor ajuste.\n",
        "\n",
        "- Entre el Real y la predicción \n",
        "- modelo.score()"
      ]
    },
    {
      "cell_type": "code",
      "metadata": {
        "colab_type": "code",
        "id": "95lkLyFuIBai",
        "colab": {},
        "outputId": "a5020d9d-feae-4623-dc28-a716d0ed61f9"
      },
      "source": [
        "# Imprimimos MSE, RMSE y r2_score\n",
        "from sklearn.metrics import mean_squared_error, r2_score\n",
        "import math\n",
        "mseTOTAL = mean_squared_error(y, y_predicted)\n",
        "r2 = r2_score(y, y_predicted)\n",
        "print(\"Error Cuadrático Medio (MSE): \", mseTOTAL)\n",
        "print(\"RMSE: \", math.sqrt(mseTOTAL))\n",
        "print(\"r2_score\", r2)"
      ],
      "execution_count": 0,
      "outputs": [
        {
          "output_type": "stream",
          "text": [
            "Error Cuadrático Medio (MSE):  10.512652915656759\n",
            "RMSE:  3.2423221486546887\n",
            "r2_score 0.611875050850071\n"
          ],
          "name": "stdout"
        }
      ]
    }
  ]
}